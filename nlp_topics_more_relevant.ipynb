{
 "cells": [
  {
   "attachments": {},
   "cell_type": "markdown",
   "metadata": {},
   "source": [
    "# Temas más relevantes en las reseñas\n",
    "En este notebook se construye la solución de NLP para identificar cuáles son los temas más abordados, y por tanto los de mayor interés, para la comunidad.\n",
    "\n",
    "Para este análisis solo se trabajará con el **dataset** de ratings ('books_rating.csv') el cual contiene todas las reseñas de los libros.\n",
    "\n",
    "### Modelado de temas con LDA\n",
    "Para realizar este proceso, se utilizará el **modelado de temas con Latent Dirichlet Allocation (LDA)**\n",
    "\n",
    "Referencia: \"Python Machine Learning: Aprendizaje automático y aprendizaje profundo  con Python, scikit-learn y Tensorflow\""
   ]
  },
  {
   "attachments": {},
   "cell_type": "markdown",
   "metadata": {},
   "source": [
    "> **Disclaimer**\n",
    "\n",
    "> Debido a que el laboratorio de AWS dejó de estar disponible, la base de datos donde se habpian cargado todos los datos a partir de los cuales se iba a trabajar también dejó de estar disponible. Por esta razón en este notebook se trabajará directamente con los dataset (CSV) originales."
   ]
  },
  {
   "cell_type": "code",
   "execution_count": 2,
   "metadata": {},
   "outputs": [],
   "source": [
    "import pandas as pd\n",
    "import numpy as np\n",
    "import matplotlib.pyplot as plt\n",
    "from sklearn.feature_extraction.text import CountVectorizer\n",
    "from sklearn.decomposition import LatentDirichletAllocation\n",
    "import nltk\n",
    "from nltk.corpus import stopwords"
   ]
  },
  {
   "attachments": {},
   "cell_type": "markdown",
   "metadata": {},
   "source": [
    "# Step 1: Análisis de los datos y limpieza de los datos\n",
    "Se identifican los dataset, se cargan en memoria, se entiende qué tipo de datos hay y con cuáles realmente vamos a trabajar. En definitiva, se construye un Data Frame de Pandas con toda la información base, a partir de la cual se realizará la selección de una muestra aleatoria para desarrollar todo el análisis."
   ]
  },
  {
   "cell_type": "code",
   "execution_count": 3,
   "metadata": {},
   "outputs": [
    {
     "name": "stdout",
     "output_type": "stream",
     "text": [
      "Index(['Id', 'Title', 'Price', 'User_id', 'profileName', 'review/helpfulness',\n",
      "       'review/score', 'review/time', 'review/summary', 'review/text'],\n",
      "      dtype='object')\n"
     ]
    }
   ],
   "source": [
    "path = '../../Datasets/books_rating.csv'\n",
    "df = pd.read_csv(path)\n",
    "print(df.columns)"
   ]
  },
  {
   "attachments": {},
   "cell_type": "markdown",
   "metadata": {},
   "source": [
    "Se va a trabajar solamente con las columnas de reseñas y score. Se renombran a 'review' y 'score' para hacer más entendible. "
   ]
  },
  {
   "cell_type": "code",
   "execution_count": 4,
   "metadata": {},
   "outputs": [],
   "source": [
    "df = df[['review/text', 'review/score']]\n",
    "colum_ranames = {\n",
    "    \"review/text\": \"review\",\n",
    "    \"review/score\": \"score\"\n",
    "}\n",
    "df = df.rename(columns = colum_ranames)"
   ]
  },
  {
   "attachments": {},
   "cell_type": "markdown",
   "metadata": {},
   "source": [
    "Revisión de nulos en el data frame:"
   ]
  },
  {
   "cell_type": "code",
   "execution_count": 5,
   "metadata": {},
   "outputs": [
    {
     "data": {
      "text/plain": [
       "review    8\n",
       "score     0\n",
       "dtype: int64"
      ]
     },
     "execution_count": 5,
     "metadata": {},
     "output_type": "execute_result"
    }
   ],
   "source": [
    "df.isna().sum()"
   ]
  },
  {
   "attachments": {},
   "cell_type": "markdown",
   "metadata": {},
   "source": [
    "Teniendo en cuenta que la cantidad de nulos es muy baja (casi despresible), se eliminan esos registros que contienen nulos."
   ]
  },
  {
   "cell_type": "code",
   "execution_count": 6,
   "metadata": {},
   "outputs": [
    {
     "data": {
      "text/plain": [
       "review    0\n",
       "score     0\n",
       "dtype: int64"
      ]
     },
     "execution_count": 6,
     "metadata": {},
     "output_type": "execute_result"
    }
   ],
   "source": [
    "df = df.dropna()\n",
    "df.isna().sum()\n"
   ]
  },
  {
   "attachments": {},
   "cell_type": "markdown",
   "metadata": {},
   "source": [
    "# Step 2: Selección de la muestra aleatoria\n",
    "Teniendo el dataset con las columnas con las que se va a trabajar, se procede a elegir la muestra aleatoria (en principio el 10%). \n",
    "\n",
    "Se cara una muestra de los datos (en este caso trabajaremos con el 10% del total, lo que hace que estemos abordando 300.000 registros y un total de 286MB de información en memoria)\n",
    "\n",
    "Para que la muestra aleatoria no haya que volver a computarla (lo que es computacionalmente costosa, dado a que hay que cargar todo el dataset original), se crea un nuevo CSV con la muestra seleccionada."
   ]
  },
  {
   "cell_type": "code",
   "execution_count": 7,
   "metadata": {},
   "outputs": [
    {
     "name": "stdout",
     "output_type": "stream",
     "text": [
      "<class 'pandas.core.frame.DataFrame'>\n",
      "Index: 299999 entries, 1871806 to 1413080\n",
      "Data columns (total 2 columns):\n",
      " #   Column  Non-Null Count   Dtype  \n",
      "---  ------  --------------   -----  \n",
      " 0   review  299999 non-null  object \n",
      " 1   score   299999 non-null  float64\n",
      "dtypes: float64(1), object(1)\n",
      "memory usage: 6.9+ MB\n"
     ]
    }
   ],
   "source": [
    "\n",
    "percent_sample = 0.1\n",
    "num_filas_seleccion = int(len(df) * percent_sample)\n",
    "df = df.sample(n=num_filas_seleccion)\n",
    "\n",
    "path_new_df = path = '../../Datasets/books_rating_sample.csv'\n",
    "df.to_csv(path_new_df)\n",
    "df.info()"
   ]
  },
  {
   "attachments": {},
   "cell_type": "markdown",
   "metadata": {},
   "source": [
    "# Step 3: Generar nuevas columnas con información de análisis\n",
    "Para facilitar el análisis de las reseñas, en términos de \"reseñas positivas\" y \"reseñas negativas\", se genera una nueva columna para indicar justamente eso, paerrtiendo del valor del score.\n",
    "\n",
    "- Positiva: score mayor o igual a 4\n",
    "- Neutral: score igual a 3\n",
    "- Negativa: score menor a 3"
   ]
  },
  {
   "cell_type": "code",
   "execution_count": 8,
   "metadata": {},
   "outputs": [
    {
     "name": "stdout",
     "output_type": "stream",
     "text": [
      "   category   count\n",
      "0  negativa   35310\n",
      "1    neutra   25357\n",
      "2  positiva  239332\n"
     ]
    }
   ],
   "source": [
    "condiciones = [\n",
    "    df['score'] >= 4,\n",
    "    df['score'] == 3,\n",
    "    df['score'] < 3\n",
    "]\n",
    "categorias = ['positiva', 'neutra', 'negativa']\n",
    "df['category'] = np.select(condiciones, categorias)\n",
    "agrupado = df.groupby('category').size().reset_index(name='count')\n",
    "print(agrupado)"
   ]
  },
  {
   "attachments": {},
   "cell_type": "markdown",
   "metadata": {},
   "source": [
    "A continuación se analiza cómo se distribuyen las opiniones según su categoría (y el score)"
   ]
  },
  {
   "cell_type": "code",
   "execution_count": 9,
   "metadata": {},
   "outputs": [
    {
     "data": {
      "image/png": "[encoded data removed]",
      "text/plain": [
       "<Figure size 640x480 with 1 Axes>"
      ]
     },
     "metadata": {},
     "output_type": "display_data"
    }
   ],
   "source": [
    "conteos = df['category'].value_counts()\n",
    "valores = conteos.values\n",
    "etiquetas = conteos.index\n",
    "plt.pie(valores, labels = etiquetas, autopct='%1.1f%%')\n",
    "plt.axis('equal')\n",
    "plt.show()"
   ]
  },
  {
   "attachments": {},
   "cell_type": "markdown",
   "metadata": {},
   "source": [
    "Ahora vamos a limpiar las reviews limpiando los textos de las reseñas, eliminando caracteres especiales, convirtiendo a minúsculas, y eliminando palabras vacías (stopwords)"
   ]
  },
  {
   "cell_type": "code",
   "execution_count": 10,
   "metadata": {},
   "outputs": [
    {
     "name": "stderr",
     "output_type": "stream",
     "text": [
      "[nltk_data] Downloading package stopwords to /Users/jorge/nltk_data...\n",
      "[nltk_data]   Package stopwords is already up-to-date!\n"
     ]
    }
   ],
   "source": [
    "nltk.download('stopwords')\n",
    "stop_words = stopwords.words('english')\n",
    "reviews = df['review']\n",
    "reviews = reviews.str.lower().replace('[^a-zA-Z]', ' ', regex=True)\n",
    "reviews = reviews.apply(lambda x: ' '.join([word for word in x.split() if word not in stop_words]))"
   ]
  },
  {
   "attachments": {},
   "cell_type": "markdown",
   "metadata": {},
   "source": [
    "# Step 4: Modelado de topics con LDA\n"
   ]
  },
  {
   "attachments": {},
   "cell_type": "markdown",
   "metadata": {},
   "source": [
    "Lo primero que vamos hacer es construir el modelo de \"bolsa de palabras\" que se construirá a partir de la tokenización con 'ConunterVectorizer' y con las stop-words en inglés.\n",
    "\n",
    "Algunos aspectos a tener en cuenta (**configuración de hiperparámetros**):\n",
    "- Vamos a trabajar con todo el data frame: ```max_df=0.95```, indicando el 95% del data frame\n",
    "- Limitar a máximo de 1000 palabras que aparecen con mayor frecuencia (inicialmente) ```max_feature=500```"
   ]
  },
  {
   "cell_type": "code",
   "execution_count": 20,
   "metadata": {},
   "outputs": [],
   "source": [
    "count_vectorizer = CountVectorizer(max_df=0.95, min_df=2, max_features=5000)\n",
    "review_vectors = count_vectorizer.fit_transform(reviews)\n",
    "feature_names = list(count_vectorizer.vocabulary_.keys())"
   ]
  },
  {
   "attachments": {},
   "cell_type": "markdown",
   "metadata": {},
   "source": [
    "Ahora entrenaremos el modelo LDA:"
   ]
  },
  {
   "cell_type": "code",
   "execution_count": 21,
   "metadata": {},
   "outputs": [
    {
     "data": {
      "text/html": [
       "<style>#sk-container-id-3 {color: black;background-color: white;}#sk-container-id-3 pre{padding: 0;}#sk-container-id-3 div.sk-toggleable {background-color: white;}#sk-container-id-3 label.sk-toggleable__label {cursor: pointer;display: block;width: 100%;margin-bottom: 0;padding: 0.3em;box-sizing: border-box;text-align: center;}#sk-container-id-3 label.sk-toggleable__label-arrow:before {content: \"▸\";float: left;margin-right: 0.25em;color: #696969;}#sk-container-id-3 label.sk-toggleable__label-arrow:hover:before {color: black;}#sk-container-id-3 div.sk-estimator:hover label.sk-toggleable__label-arrow:before {color: black;}#sk-container-id-3 div.sk-toggleable__content {max-height: 0;max-width: 0;overflow: hidden;text-align: left;background-color: #f0f8ff;}#sk-container-id-3 div.sk-toggleable__content pre {margin: 0.2em;color: black;border-radius: 0.25em;background-color: #f0f8ff;}#sk-container-id-3 input.sk-toggleable__control:checked~div.sk-toggleable__content {max-height: 200px;max-width: 100%;overflow: auto;}#sk-container-id-3 input.sk-toggleable__control:checked~label.sk-toggleable__label-arrow:before {content: \"▾\";}#sk-container-id-3 div.sk-estimator input.sk-toggleable__control:checked~label.sk-toggleable__label {background-color: #d4ebff;}#sk-container-id-3 div.sk-label input.sk-toggleable__control:checked~label.sk-toggleable__label {background-color: #d4ebff;}#sk-container-id-3 input.sk-hidden--visually {border: 0;clip: rect(1px 1px 1px 1px);clip: rect(1px, 1px, 1px, 1px);height: 1px;margin: -1px;overflow: hidden;padding: 0;position: absolute;width: 1px;}#sk-container-id-3 div.sk-estimator {font-family: monospace;background-color: #f0f8ff;border: 1px dotted black;border-radius: 0.25em;box-sizing: border-box;margin-bottom: 0.5em;}#sk-container-id-3 div.sk-estimator:hover {background-color: #d4ebff;}#sk-container-id-3 div.sk-parallel-item::after {content: \"\";width: 100%;border-bottom: 1px solid gray;flex-grow: 1;}#sk-container-id-3 div.sk-label:hover label.sk-toggleable__label {background-color: #d4ebff;}#sk-container-id-3 div.sk-serial::before {content: \"\";position: absolute;border-left: 1px solid gray;box-sizing: border-box;top: 0;bottom: 0;left: 50%;z-index: 0;}#sk-container-id-3 div.sk-serial {display: flex;flex-direction: column;align-items: center;background-color: white;padding-right: 0.2em;padding-left: 0.2em;position: relative;}#sk-container-id-3 div.sk-item {position: relative;z-index: 1;}#sk-container-id-3 div.sk-parallel {display: flex;align-items: stretch;justify-content: center;background-color: white;position: relative;}#sk-container-id-3 div.sk-item::before, #sk-container-id-3 div.sk-parallel-item::before {content: \"\";position: absolute;border-left: 1px solid gray;box-sizing: border-box;top: 0;bottom: 0;left: 50%;z-index: -1;}#sk-container-id-3 div.sk-parallel-item {display: flex;flex-direction: column;z-index: 1;position: relative;background-color: white;}#sk-container-id-3 div.sk-parallel-item:first-child::after {align-self: flex-end;width: 50%;}#sk-container-id-3 div.sk-parallel-item:last-child::after {align-self: flex-start;width: 50%;}#sk-container-id-3 div.sk-parallel-item:only-child::after {width: 0;}#sk-container-id-3 div.sk-dashed-wrapped {border: 1px dashed gray;margin: 0 0.4em 0.5em 0.4em;box-sizing: border-box;padding-bottom: 0.4em;background-color: white;}#sk-container-id-3 div.sk-label label {font-family: monospace;font-weight: bold;display: inline-block;line-height: 1.2em;}#sk-container-id-3 div.sk-label-container {text-align: center;}#sk-container-id-3 div.sk-container {/* jupyter's `normalize.less` sets `[hidden] { display: none; }` but bootstrap.min.css set `[hidden] { display: none !important; }` so we also need the `!important` here to be able to override the default hidden behavior on the sphinx rendered scikit-learn.org. See: https://github.com/scikit-learn/scikit-learn/issues/21755 */display: inline-block !important;position: relative;}#sk-container-id-3 div.sk-text-repr-fallback {display: none;}</style><div id=\"sk-container-id-3\" class=\"sk-top-container\"><div class=\"sk-text-repr-fallback\"><pre>LatentDirichletAllocation(n_components=5, random_state=42)</pre><b>In a Jupyter environment, please rerun this cell to show the HTML representation or trust the notebook. <br />On GitHub, the HTML representation is unable to render, please try loading this page with nbviewer.org.</b></div><div class=\"sk-container\" hidden><div class=\"sk-item\"><div class=\"sk-estimator sk-toggleable\"><input class=\"sk-toggleable__control sk-hidden--visually\" id=\"sk-estimator-id-3\" type=\"checkbox\" checked><label for=\"sk-estimator-id-3\" class=\"sk-toggleable__label sk-toggleable__label-arrow\">LatentDirichletAllocation</label><div class=\"sk-toggleable__content\"><pre>LatentDirichletAllocation(n_components=5, random_state=42)</pre></div></div></div></div></div>"
      ],
      "text/plain": [
       "LatentDirichletAllocation(n_components=5, random_state=42)"
      ]
     },
     "execution_count": 21,
     "metadata": {},
     "output_type": "execute_result"
    }
   ],
   "source": [
    "n_topics = 5 \n",
    "lda = LatentDirichletAllocation(n_components=n_topics, random_state=42)\n",
    "lda.fit(review_vectors)"
   ]
  },
  {
   "attachments": {},
   "cell_type": "markdown",
   "metadata": {},
   "source": [
    "Teniendo definidos los temas, se asignan a cada una de las reseñas."
   ]
  },
  {
   "cell_type": "code",
   "execution_count": 25,
   "metadata": {},
   "outputs": [],
   "source": [
    "n_top_words = 10  # Número de palabras a mostrar por tema\n",
    "topic_assignments = lda.transform(review_vectors)\n",
    "df['topic'] = topic_assignments.argmax(axis=1)"
   ]
  },
  {
   "attachments": {},
   "cell_type": "markdown",
   "metadata": {},
   "source": [
    "Ahora para cada tema, muestra las palabras más representativas:"
   ]
  },
  {
   "cell_type": "code",
   "execution_count": 35,
   "metadata": {},
   "outputs": [
    {
     "name": "stdout",
     "output_type": "stream",
     "text": [
      "Topic 0: peaceful bennet tedious signs afterwards hold garden piano terrorist murders\n",
      "Topic 1: tedious sooner afterwards killing cover fitzgerald recovery checking avoid regard\n",
      "Topic 2: tedious scary afterwards considerable murders recovery limited condition killing candy\n",
      "Topic 3: afterwards tedious football couples enter peaceful north regard gap saint\n",
      "Topic 4: tedious bennet afterwards storyline scary learns garden limited sooner mass\n"
     ]
    }
   ],
   "source": [
    "for topic_idx, topic in enumerate(lda.components_):\n",
    "    topic_words = [feature_names[i] for i in topic.argsort()[:-n_top_words - 1:-1]]\n",
    "    print(f\"Topic {topic_idx}: {' '.join(topic_words)}\")"
   ]
  },
  {
   "attachments": {},
   "cell_type": "markdown",
   "metadata": {},
   "source": [
    "Para entender cómo se distribuyen los temas por todas las reseñas, se constriye un gráfico de 'pie' con los porcentajes reflejados de acuerdo con la cantidad de reseñas por tema."
   ]
  },
  {
   "cell_type": "code",
   "execution_count": 32,
   "metadata": {},
   "outputs": [
    {
     "data": {
      "image/png": "[encoded data removed]",
      "text/plain": [
       "<Figure size 640x480 with 1 Axes>"
      ]
     },
     "metadata": {},
     "output_type": "display_data"
    }
   ],
   "source": [
    "df_grouped = df.groupby('topic').size()\n",
    "fig, ax = plt.subplots()\n",
    "ax.pie(df_grouped, labels=df_grouped.index, autopct='%1.1f%%')\n",
    "ax.set_title('Distribución de temas')\n",
    "plt.show()"
   ]
  },
  {
   "attachments": {},
   "cell_type": "markdown",
   "metadata": {},
   "source": [
    "# Step 5: I"
   ]
  },
  {
   "cell_type": "code",
   "execution_count": null,
   "metadata": {},
   "outputs": [],
   "source": [
    "De manera que ahora podemos saber cuáles son las palabras más frecuentes en las reviews negativas, y que no son usadas en reviews positivas."
   ]
  }
 ],
 "metadata": {
  "kernelspec": {
   "display_name": "bigdata-env",
   "language": "python",
   "name": "python3"
  },
  "language_info": {
   "codemirror_mode": {
    "name": "ipython",
    "version": 3
   },
   "file_extension": ".py",
   "mimetype": "text/x-python",
   "name": "python",
   "nbconvert_exporter": "python",
   "pygments_lexer": "ipython3",
   "version": "3.11.3"
  },
  "orig_nbformat": 4
 },
 "nbformat": 4,
 "nbformat_minor": 2
}
