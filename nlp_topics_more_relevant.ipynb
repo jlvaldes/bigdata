{
 "cells": [
  {
   "attachments": {},
   "cell_type": "markdown",
   "metadata": {},
   "source": [
    "# Temas más relevantes en las reseñas\n",
    "En este notebook se construye la solución de NLP para identificar cuáles son los temas más abordados, y por tanto los de mayor interés, para la comunidad.\n",
    "\n",
    "Para este análisis solo se trabajará con el **dataset** de ratings ('books_rating.csv') el cual contiene todas las reseñas de los libros."
   ]
  },
  {
   "attachments": {},
   "cell_type": "markdown",
   "metadata": {},
   "source": [
    "> **Disclaimer**\n",
    "\n",
    "> Debido a que el laboratorio de AWS dejó de estar disponible, la base de datos donde se habpian cargado todos los datos a partir de los cuales se iba a trabajar también dejó de estar disponible. Por esta razón en este notebook se trabajará directamente con los dataset (CSV) originales."
   ]
  },
  {
   "cell_type": "code",
   "execution_count": 15,
   "metadata": {},
   "outputs": [],
   "source": [
    "import pandas as pd\n",
    "import numpy as np\n",
    "import matplotlib.pyplot as plt"
   ]
  },
  {
   "attachments": {},
   "cell_type": "markdown",
   "metadata": {},
   "source": [
    "# Step 1: Análisis de los datos y limpieza de los datos\n",
    "Se identifican los dataset, se cargan en memoria, se entiende qué tipo de datos hay y con cuáles realmente vamos a trabajar. En definitiva, se construye un Data Frame de Pandas con toda la información base, a partir de la cual se realizará la selección de una muestra aleatoria para desarrollar todo el análisis."
   ]
  },
  {
   "cell_type": "code",
   "execution_count": 2,
   "metadata": {},
   "outputs": [
    {
     "name": "stdout",
     "output_type": "stream",
     "text": [
      "Index(['Id', 'Title', 'Price', 'User_id', 'profileName', 'review/helpfulness',\n",
      "       'review/score', 'review/time', 'review/summary', 'review/text'],\n",
      "      dtype='object')\n"
     ]
    }
   ],
   "source": [
    "path = '../../Datasets/books_rating.csv'\n",
    "df = pd.read_csv(path)\n",
    "print(df.columns)"
   ]
  },
  {
   "attachments": {},
   "cell_type": "markdown",
   "metadata": {},
   "source": [
    "Se va a trabajar solamente con las columnas de reseñas y score. Se renombran a 'review' y 'score' para hacer más entendible. "
   ]
  },
  {
   "cell_type": "code",
   "execution_count": 3,
   "metadata": {},
   "outputs": [],
   "source": [
    "df = df[['review/text', 'review/score']]\n",
    "colum_ranames = {\n",
    "    \"review/text\": \"review\",\n",
    "    \"review/score\": \"score\"\n",
    "}\n",
    "df = df.rename(columns = colum_ranames)"
   ]
  },
  {
   "attachments": {},
   "cell_type": "markdown",
   "metadata": {},
   "source": [
    "Revisión de nulos en el data frame:"
   ]
  },
  {
   "cell_type": "code",
   "execution_count": 4,
   "metadata": {},
   "outputs": [
    {
     "data": {
      "text/plain": [
       "review    8\n",
       "score     0\n",
       "dtype: int64"
      ]
     },
     "execution_count": 4,
     "metadata": {},
     "output_type": "execute_result"
    }
   ],
   "source": [
    "df.isna().sum()"
   ]
  },
  {
   "attachments": {},
   "cell_type": "markdown",
   "metadata": {},
   "source": [
    "Teniendo en cuenta que la cantidad de nulos es muy baja (casi despresible), se eliminan esos registros que contienen nulos."
   ]
  },
  {
   "cell_type": "code",
   "execution_count": 5,
   "metadata": {},
   "outputs": [
    {
     "data": {
      "text/plain": [
       "review    0\n",
       "score     0\n",
       "dtype: int64"
      ]
     },
     "execution_count": 5,
     "metadata": {},
     "output_type": "execute_result"
    }
   ],
   "source": [
    "df = df.dropna()\n",
    "df.isna().sum()\n"
   ]
  },
  {
   "attachments": {},
   "cell_type": "markdown",
   "metadata": {},
   "source": [
    "# Step 2: Selección de la muestra aleatoria\n",
    "Teniendo el dataset con las columnas con las que se va a trabajar, se procede a elegir la muestra aleatoria (en principio el 10%). \n",
    "\n",
    "Se cara una muestra de los datos (en este caso trabajaremos con el 10% del total, lo que hace que estemos abordando 300.000 registros y un total de 286MB de información en memoria)\n",
    "\n",
    "Para que la muestra aleatoria no haya que volver a computarla (lo que es computacionalmente costosa, dado a que hay que cargar todo el dataset original), se crea un nuevo CSV con la muestra seleccionada."
   ]
  },
  {
   "cell_type": "code",
   "execution_count": 6,
   "metadata": {},
   "outputs": [
    {
     "name": "stdout",
     "output_type": "stream",
     "text": [
      "<class 'pandas.core.frame.DataFrame'>\n",
      "Index: 299999 entries, 55619 to 2765719\n",
      "Data columns (total 2 columns):\n",
      " #   Column  Non-Null Count   Dtype  \n",
      "---  ------  --------------   -----  \n",
      " 0   review  299999 non-null  object \n",
      " 1   score   299999 non-null  float64\n",
      "dtypes: float64(1), object(1)\n",
      "memory usage: 6.9+ MB\n"
     ]
    }
   ],
   "source": [
    "\n",
    "percent_sample = 0.1\n",
    "num_filas_seleccion = int(len(df) * percent_sample)\n",
    "df = df.sample(n=num_filas_seleccion)\n",
    "\n",
    "path_new_df = path = '../../Datasets/books_rating_sample.csv'\n",
    "df.to_csv(path_new_df)\n",
    "df.info()"
   ]
  },
  {
   "attachments": {},
   "cell_type": "markdown",
   "metadata": {},
   "source": [
    "# Step 3: Generar nuevas columnas con información de análisis\n",
    "Para facilitar el análisis de las reseñas, en términos de \"reseñas positivas\" y \"reseñas negativas\", se genera una nueva columna para indicar justamente eso, paerrtiendo del valor del score.\n",
    "\n",
    "- Positiva: score mayor o igual a 4\n",
    "- Neutral: score igual a 3\n",
    "- Negativa: score menor a 3"
   ]
  },
  {
   "cell_type": "code",
   "execution_count": 13,
   "metadata": {},
   "outputs": [
    {
     "name": "stdout",
     "output_type": "stream",
     "text": [
      "   category   count\n",
      "0  negativa   35411\n",
      "1    neutra   25419\n",
      "2  positiva  239169\n"
     ]
    }
   ],
   "source": [
    "condiciones = [\n",
    "    df['score'] >= 4,\n",
    "    df['score'] == 3,\n",
    "    df['score'] < 3\n",
    "]\n",
    "categorias = ['positiva', 'neutra', 'negativa']\n",
    "df['category'] = np.select(condiciones, categorias)\n",
    "agrupado = df.groupby('category').size().reset_index(name='count')\n",
    "print(agrupado)"
   ]
  },
  {
   "attachments": {},
   "cell_type": "markdown",
   "metadata": {},
   "source": [
    "A continuación se analiza cómo se distribuyen las opiniones según su categoría (y el score)"
   ]
  },
  {
   "cell_type": "code",
   "execution_count": 17,
   "metadata": {},
   "outputs": [
    {
     "data": {
      "image/png": "[encoded data removed]",
      "text/plain": [
       "<Figure size 640x480 with 1 Axes>"
      ]
     },
     "metadata": {},
     "output_type": "display_data"
    }
   ],
   "source": [
    "conteos = df['category'].value_counts()\n",
    "valores = conteos.values\n",
    "etiquetas = conteos.index\n",
    "plt.pie(valores, labels = etiquetas, autopct='%1.1f%%')\n",
    "plt.axis('equal')\n",
    "plt.show()"
   ]
  },
  {
   "attachments": {},
   "cell_type": "markdown",
   "metadata": {},
   "source": [
    "# Step 4: "
   ]
  },
  {
   "cell_type": "code",
   "execution_count": null,
   "metadata": {},
   "outputs": [],
   "source": []
  }
 ],
 "metadata": {
  "kernelspec": {
   "display_name": "bigdata-env",
   "language": "python",
   "name": "python3"
  },
  "language_info": {
   "codemirror_mode": {
    "name": "ipython",
    "version": 3
   },
   "file_extension": ".py",
   "mimetype": "text/x-python",
   "name": "python",
   "nbconvert_exporter": "python",
   "pygments_lexer": "ipython3",
   "version": "3.11.3"
  },
  "orig_nbformat": 4
 },
 "nbformat": 4,
 "nbformat_minor": 2
}
