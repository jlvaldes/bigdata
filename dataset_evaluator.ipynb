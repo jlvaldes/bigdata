{
 "cells": [
  {
   "attachments": {},
   "cell_type": "markdown",
   "metadata": {},
   "source": [
    "# CÓDIGO PARA EVALUAR DATASETS\n",
    "Este Jupyter Notebook es para que dado un dataset que se almacene en la variable 'path', se pueda extraer información de valor sobre dicho dataset."
   ]
  },
  {
   "cell_type": "code",
   "execution_count": 31,
   "metadata": {},
   "outputs": [],
   "source": [
    "import pandas as pd\n",
    "import os\n",
    "pd.set_option('display.max_colwidth', None)"
   ]
  },
  {
   "attachments": {},
   "cell_type": "markdown",
   "metadata": {},
   "source": [
    "Definir el path del dataset que se necesita evaluar:"
   ]
  },
  {
   "cell_type": "code",
   "execution_count": 85,
   "metadata": {},
   "outputs": [],
   "source": [
    "#https://www.kaggle.com/datasets/utkarshx27/consumer-complaint\n",
    "path = \"../../Datasets/books_data.csv\"\n"
   ]
  },
  {
   "attachments": {},
   "cell_type": "markdown",
   "metadata": {},
   "source": [
    "Cargar el dataset en un data frame de pandas:"
   ]
  },
  {
   "cell_type": "code",
   "execution_count": 86,
   "metadata": {},
   "outputs": [],
   "source": [
    "ruta_csv = path\n",
    "ruta_absoluta = os.path.abspath(ruta_csv)\n",
    "df = pd.DataFrame()"
   ]
  },
  {
   "attachments": {},
   "cell_type": "markdown",
   "metadata": {},
   "source": [
    "Tamaño del dataset (en MB)"
   ]
  },
  {
   "cell_type": "code",
   "execution_count": 82,
   "metadata": {},
   "outputs": [
    {
     "name": "stdout",
     "output_type": "stream",
     "text": [
      "Tamaño en memoria es de 2727.0 MB, sí cumple\n"
     ]
    }
   ],
   "source": [
    "size = round(os.path.getsize(path)/1024 ** 2, 0)\n",
    "print(f\"Tamaño en memoria es de {size} MB, sí cumple\" if size > 250 else f\"El tamaño en memoria: {size} MB no cumple el requerimiento\")"
   ]
  },
  {
   "attachments": {},
   "cell_type": "markdown",
   "metadata": {},
   "source": [
    "Cuáles son las columnas del dataset?"
   ]
  },
  {
   "cell_type": "code",
   "execution_count": 72,
   "metadata": {},
   "outputs": [
    {
     "name": "stdout",
     "output_type": "stream",
     "text": [
      "<class 'pandas.core.frame.DataFrame'>\n",
      "RangeIndex: 0 entries\n",
      "Empty DataFrame\n"
     ]
    }
   ],
   "source": [
    "df.info()"
   ]
  },
  {
   "attachments": {},
   "cell_type": "markdown",
   "metadata": {},
   "source": [
    "Evaluación de los valores NULLs del dataset. Porcentaje que representa los valores de NULL por columnas, respecto al total."
   ]
  },
  {
   "cell_type": "code",
   "execution_count": 87,
   "metadata": {},
   "outputs": [
    {
     "data": {
      "text/html": [
       "<div>\n",
       "<style scoped>\n",
       "    .dataframe tbody tr th:only-of-type {\n",
       "        vertical-align: middle;\n",
       "    }\n",
       "\n",
       "    .dataframe tbody tr th {\n",
       "        vertical-align: top;\n",
       "    }\n",
       "\n",
       "    .dataframe thead th {\n",
       "        text-align: right;\n",
       "    }\n",
       "</style>\n",
       "<table border=\"1\" class=\"dataframe\">\n",
       "  <thead>\n",
       "    <tr style=\"text-align: right;\">\n",
       "      <th></th>\n",
       "      <th>Cantidad Null</th>\n",
       "      <th>Porcentaje</th>\n",
       "    </tr>\n",
       "  </thead>\n",
       "  <tbody>\n",
       "    <tr>\n",
       "      <th>Title</th>\n",
       "      <td>1</td>\n",
       "      <td>0.0%</td>\n",
       "    </tr>\n",
       "    <tr>\n",
       "      <th>description</th>\n",
       "      <td>68442</td>\n",
       "      <td>32.22%</td>\n",
       "    </tr>\n",
       "    <tr>\n",
       "      <th>authors</th>\n",
       "      <td>31413</td>\n",
       "      <td>14.79%</td>\n",
       "    </tr>\n",
       "    <tr>\n",
       "      <th>image</th>\n",
       "      <td>52075</td>\n",
       "      <td>24.52%</td>\n",
       "    </tr>\n",
       "    <tr>\n",
       "      <th>previewLink</th>\n",
       "      <td>23836</td>\n",
       "      <td>11.22%</td>\n",
       "    </tr>\n",
       "    <tr>\n",
       "      <th>publisher</th>\n",
       "      <td>75886</td>\n",
       "      <td>35.73%</td>\n",
       "    </tr>\n",
       "    <tr>\n",
       "      <th>publishedDate</th>\n",
       "      <td>25305</td>\n",
       "      <td>11.91%</td>\n",
       "    </tr>\n",
       "    <tr>\n",
       "      <th>infoLink</th>\n",
       "      <td>23836</td>\n",
       "      <td>11.22%</td>\n",
       "    </tr>\n",
       "    <tr>\n",
       "      <th>categories</th>\n",
       "      <td>41199</td>\n",
       "      <td>19.4%</td>\n",
       "    </tr>\n",
       "    <tr>\n",
       "      <th>ratingsCount</th>\n",
       "      <td>162652</td>\n",
       "      <td>76.58%</td>\n",
       "    </tr>\n",
       "  </tbody>\n",
       "</table>\n",
       "</div>"
      ],
      "text/plain": [
       "               Cantidad Null Porcentaje\n",
       "Title                      1       0.0%\n",
       "description            68442     32.22%\n",
       "authors                31413     14.79%\n",
       "image                  52075     24.52%\n",
       "previewLink            23836     11.22%\n",
       "publisher              75886     35.73%\n",
       "publishedDate          25305     11.91%\n",
       "infoLink               23836     11.22%\n",
       "categories             41199      19.4%\n",
       "ratingsCount          162652     76.58%"
      ]
     },
     "execution_count": 87,
     "metadata": {},
     "output_type": "execute_result"
    }
   ],
   "source": [
    "\n",
    "df = pd.read_csv(ruta_absoluta)\n",
    "null_counts = df.isnull().sum()\n",
    "null_percentages = round((null_counts / len(df)) * 100,2)\n",
    "result = pd.DataFrame({'Cantidad Null': null_counts, 'Porcentaje': null_percentages})\n",
    "result[\"Porcentaje\"] = result[\"Porcentaje\"].apply(lambda x: str(x) + \"%\")\n",
    "result"
   ]
  },
  {
   "attachments": {},
   "cell_type": "markdown",
   "metadata": {},
   "source": [
    "Cual es el tamaño máximo de las columna en el data frame:"
   ]
  },
  {
   "cell_type": "code",
   "execution_count": 67,
   "metadata": {},
   "outputs": [
    {
     "name": "stdout",
     "output_type": "stream",
     "text": [
      "Id                       10\n",
      "Title                   445\n",
      "Price                     6\n",
      "User_id                  21\n",
      "profileName              49\n",
      "review/helpfulness       11\n",
      "review/score              3\n",
      "review/time              10\n",
      "review/summary          249\n",
      "review/text           32576\n",
      "dtype: int64\n"
     ]
    }
   ],
   "source": [
    "col_value_size = df.applymap(lambda x: len(str(x))).max()\n",
    "print(col_value_size)"
   ]
  },
  {
   "cell_type": "code",
   "execution_count": 84,
   "metadata": {},
   "outputs": [
    {
     "data": {
      "text/html": [
       "<div>\n",
       "<style scoped>\n",
       "    .dataframe tbody tr th:only-of-type {\n",
       "        vertical-align: middle;\n",
       "    }\n",
       "\n",
       "    .dataframe tbody tr th {\n",
       "        vertical-align: top;\n",
       "    }\n",
       "\n",
       "    .dataframe thead th {\n",
       "        text-align: right;\n",
       "    }\n",
       "</style>\n",
       "<table border=\"1\" class=\"dataframe\">\n",
       "  <thead>\n",
       "    <tr style=\"text-align: right;\">\n",
       "      <th></th>\n",
       "      <th>Id</th>\n",
       "      <th>Title</th>\n",
       "      <th>Price</th>\n",
       "      <th>User_id</th>\n",
       "      <th>profileName</th>\n",
       "      <th>review/helpfulness</th>\n",
       "      <th>review/score</th>\n",
       "      <th>review/time</th>\n",
       "      <th>review/summary</th>\n",
       "      <th>review/text</th>\n",
       "    </tr>\n",
       "  </thead>\n",
       "  <tbody>\n",
       "    <tr>\n",
       "      <th>0</th>\n",
       "      <td>1882931173</td>\n",
       "      <td>Its Only Art If Its Well Hung!</td>\n",
       "      <td>NaN</td>\n",
       "      <td>AVCGYZL8FQQTD</td>\n",
       "      <td>Jim of Oz \"jim-of-oz\"</td>\n",
       "      <td>7/7</td>\n",
       "      <td>4.0</td>\n",
       "      <td>940636800</td>\n",
       "      <td>Nice collection of Julie Strain images</td>\n",
       "      <td>This is only for Julie Strain fans. It's a collection of her photos -- about 80 pages worth with a nice section of paintings by Olivia.If you're looking for heavy literary content, this isn't the place to find it -- there's only about 2 pages with text and everything else is photos.Bottom line: if you only want one book, the Six Foot One ... is probably a better choice, however, if you like Julie like I like Julie, you won't go wrong on this one either.</td>\n",
       "    </tr>\n",
       "    <tr>\n",
       "      <th>1</th>\n",
       "      <td>0826414346</td>\n",
       "      <td>Dr. Seuss: American Icon</td>\n",
       "      <td>NaN</td>\n",
       "      <td>A30TK6U7DNS82R</td>\n",
       "      <td>Kevin Killian</td>\n",
       "      <td>10/10</td>\n",
       "      <td>5.0</td>\n",
       "      <td>1095724800</td>\n",
       "      <td>Really Enjoyed It</td>\n",
       "      <td>I don't care much for Dr. Seuss but after reading Philip Nel's book I changed my mind--that's a good testimonial to the power of Rel's writing and thinking. Rel plays Dr. Seuss the ultimate compliment of treating him as a serious poet as well as one of the 20th century's most interesting visual artists, and after reading his book I decided that a trip to the Mandeville Collections of the library at University of California in San Diego was in order, so I could visit some of the incredible Seuss/Geisel holdings they have there.There's almost too much to take in, for, like William Butler Yeats, Seuss led a career that constantly shifted and metamoprhized itself to meet new historical and political cirsumstances, so he seems to have been both a leftist and a conservative at different junctures of his career, both in politics and in art. As Nel shows us, he was once a cartoonist for the fabled PM magazine and, like Andy Warhol, he served his time slaving in the ad business too. All was in the service of amusing and broadening the minds of US children. Nel doesn't hesitate to administer a sound spanking to the Seuss industry that, since his death, has seen fit to license all kinds of awful products including the recent CAT IN THE HAT film with Mike Myers. Oh, what a cat-astrophe!The book is great and I can especially recommend the work of the picture editor who has given us a bounty of good illustrations.</td>\n",
       "    </tr>\n",
       "    <tr>\n",
       "      <th>2</th>\n",
       "      <td>0826414346</td>\n",
       "      <td>Dr. Seuss: American Icon</td>\n",
       "      <td>NaN</td>\n",
       "      <td>A3UH4UZ4RSVO82</td>\n",
       "      <td>John Granger</td>\n",
       "      <td>10/11</td>\n",
       "      <td>5.0</td>\n",
       "      <td>1078790400</td>\n",
       "      <td>Essential for every personal and Public Library</td>\n",
       "      <td>If people become the books they read and if \"the child is father to the man,\" then Dr. Seuss (Theodor Seuss Geisel) is the most influential author, poet, and artist of modern times. For me, a daddy to a large family who learned to read with Dr. Seuss and who has memorized too many of the books via repeated readings to young children, Prof. Nel's brilliant 'American Icon' is a long awaited treat. At last a serious treatment of this remarkable genius that is both an engaging read and filled with remarkable insights! I especially enjoyed (and learned more than I care to admit from) Prof. Nel's discussions of the Disneyfication of Seuss - which Nel links to failings in American copyright law, \"the other sides of Dr. Seuss\" - all of which sides were new to me, and the political genesis of his secular morality in the WWII cartoon work he did at PM magazine. The chapters on Geisel's poetry and artwork and the link Nel makes between Seuss and the historical avant guarde alone make this book a \"must buy\" for parents and serious readers, not to mention public libraries. Readers of Nel's other books will find the same engaging writing style that makes the book a fun read while imparting a mountain of information and important ideas. This is simply the best and most comprehensive book yet written on the work of Seuss Geisel and what will certainly be the standard for many years to come. Thank you, Prof. Nel, wherever you are, from a reader who grew up with the good doctor and who is growing up with him again years later. Your book, written from your encyclopeadic knowledge of children's literature and the media of this genre - from scanning verse to cubist painting! - explains the power, limits, and popularity of the Seuss phenomenon.</td>\n",
       "    </tr>\n",
       "    <tr>\n",
       "      <th>3</th>\n",
       "      <td>0826414346</td>\n",
       "      <td>Dr. Seuss: American Icon</td>\n",
       "      <td>NaN</td>\n",
       "      <td>A2MVUWT453QH61</td>\n",
       "      <td>Roy E. Perry \"amateur philosopher\"</td>\n",
       "      <td>7/7</td>\n",
       "      <td>4.0</td>\n",
       "      <td>1090713600</td>\n",
       "      <td>Phlip Nel gives silly Seuss a serious treatment</td>\n",
       "      <td>Theodore Seuss Geisel (1904-1991), aka &amp;quot;Dr. Seuss,&amp;quot; was one of the most influential writers and artists of the 20th century.In 1959, Rudolf Flesch wrote, &amp;quot;A hundred years from now, children and their parents will still eagerly read the books of a fellow called Ted Geisel, popularly known as Dr. Seuss.&amp;quot;Flesch was too conservative in his prediction. A century, and more, from today, Dr. Seuss will still be read when many authors on today's bestseller lists will be forgotten.Published on the centenary of Geisel's birth, Dr. Seuss: American Icon analyzes six key aspects of Seuss's career: poetry, politics, art, biography, marketing, and influence.In six insightful chapters, Philip Nel, Assistant Professor of English at Kansas State University, discusses &amp;quot;U.S. Laureate of Nonsense,&amp;quot; &amp;quot;Dr. Seuss vs. Adolf Hitler,&amp;quot; &amp;quot;The Doc in the Smock,&amp;quot; &amp;quot;The 5,000 Fingers of Dr. S.,&amp;quot; &amp;quot;The Disneyfication of Dr. Seuss,&amp;quot; and &amp;quot;The Cat in the Hat for President.&amp;quot;Nel gives short shrift to Geisel's childhood and family background--and, indeed, to biography in general--preferring to focus on Seuss's writing and art, from his first book, And to Think That I Saw It on Mulberry Street (1937) to his last book, Oh, the Places You'll Go! (1990).Dr. Seuss's breakthrough year was 1957, when he published the two books with which he is most often identified: The Cat in the Hat and How the Grinch Stole Christmas!Other classic works in the Seussian canon are: Horton Hears a Who! (&amp;quot;A person's a person, no matter how small&amp;quot;), Yertle the Turtle (modeled on the rise of Adolf Hitler), Green Eggs and Ham (Seuss's bestselling book), The Sneeches (a criticism of anti-Semitism), The Lorax (a protest against corporate abuse of the environment), and The Butter Battle Book (a critique of Reagan's enthusiasm for the nuclear arms trace).His favorite work, among the books he authored, was The Cat in the Hat, for it, more than any other, taught children to read.While many of his books have a clear and powerful moral, Seuss had a horror of heavy-handed preaching. He sought to teach and ignite the imagination, but was a lifelong opponent of smug, self-righteous bourgeois moralism.&amp;quot;Seuss was a contrarian,&amp;quot; writes Nel, &amp;quot;who enjoyed challenging people to reconsider their assumptions. [He had a] rebellious imagination and a dispositional distaste for rules and regulations.&amp;quot; His work was a &amp;quot;rational insanity&amp;quot; that exhibited &amp;quot;joyous anarchy&amp;quot; and a &amp;quot;lifelong thrill in misbehaving.&amp;quot;A better subtitle for Nel's work would have been American Icon and Iconoclast.Nel tells of Seuss's early years as an advertising artist and as a agitprop cartoonist. The book, however, is not a biography; it is a serious study in the genres of literary and art criticism.For readers who want more biographical information, Nel recommends Dr. Seuss and Mr. Geisel, by Judith Morgan and Neil Morgan (1995), which he describes as &amp;quot;the definitive biography and the single best secondary source on Seuss. Any discussion of Seuss's life and work must begin with this book.&amp;quot;Dr. Seuss: American Icon includes 103 pages of notes, index, and the most comprehensive annotated Seuss bibliography ever assembled. One learns a lot from this book; the author's lucid style makes it not only an enlightening work but a fun read.Philip Nel is the author of J. K. Rowling's Harry Potter Novels: A Reader's Guide (2001) and The Avant-Garde and American Postmodernity (2002).Roy E. Perry of Nolensville, Tennessee, is an advertising copywriter at a Nashville publishing house.</td>\n",
       "    </tr>\n",
       "    <tr>\n",
       "      <th>4</th>\n",
       "      <td>0826414346</td>\n",
       "      <td>Dr. Seuss: American Icon</td>\n",
       "      <td>NaN</td>\n",
       "      <td>A22X4XUPKF66MR</td>\n",
       "      <td>D. H. Richards \"ninthwavestore\"</td>\n",
       "      <td>3/3</td>\n",
       "      <td>4.0</td>\n",
       "      <td>1107993600</td>\n",
       "      <td>Good academic overview</td>\n",
       "      <td>Philip Nel - Dr. Seuss: American IconThis is basically an academic overview of Seuss poetry, art, cartoons, and the problems with the commercialization of the Seuss name and works after his death. It is not, to any real extent, a biography. Those seeking such should move on.As an academic book it leans on the dry side. It assumes the reader has a fairly good knowledge of Children's Literature and 20th Century cartoons (not the animated kind). Not a book to begin your Dr. Seuss experience with. But if you have read them to your children and are interested about the writing style (there is a good chapter about his poetry) or his art style (not as good a chapter, but still interesting).What interested me the most was the deconstruction of the recent rush to \"cash in\" on Seuss by Hollywood and advertisers. I think that Nel wants to come down against it, but based on Seuss' background (he started out drawing Flit ads) and the projects he approved during his lifetime; it is a tough argument to make. In the end though Nel does point out that maybe the movies and tie- ins did not have to be so... crass?The book is well researched; lots of neat tidbits are to be gleamed. Early cartoons by Seuss for PM magazine were occasionally (by today's standards) shockingly racist. It makes him a little more human and puts his latter works like the Lorax in a new light.Those in Education may enjoy this background. Fans of Seuss will enjoy the exhaustive bibliography of Seuss's many, many works. Also good list of other works about the man.</td>\n",
       "    </tr>\n",
       "    <tr>\n",
       "      <th>5</th>\n",
       "      <td>0826414346</td>\n",
       "      <td>Dr. Seuss: American Icon</td>\n",
       "      <td>NaN</td>\n",
       "      <td>A2F6NONFUDB6UK</td>\n",
       "      <td>Malvin</td>\n",
       "      <td>2/2</td>\n",
       "      <td>4.0</td>\n",
       "      <td>1127174400</td>\n",
       "      <td>One of America's greatest creative talents</td>\n",
       "      <td>\"Dr. Seuss: American Icon\" by Philip Nel is a thoughtful deconstruction of the life and work of Theodore Geisel (aka Dr. Seuss). In this thoughtful book, Mr. Nel deepens our appreciation for Seuss as a distinctively American poet, artist and educator. The author demonstrates Seuss' wide ranging influence and argues for his rightful place among the most important cultural figures of the 20th century.An English professor at Kansas State University, Mr. Nel uses his historic knowledge to discuss how Seuss' text belongs to a tradition of great nonsense writers. Mr. Nel states that Seuss' carefully-constructed absurdist tales encourage children to challenge the status quo by gently skewering the grown-up world; elsewhere, he uses charts to show how Seuss effectively used meter and rhyme to complement his intentionally ridiculous plots and create masterful stories that have stood up well to the test of time.Mr. Nel recounts Seuss' early career as advertising illustrator and political cartoonist to help us better understand the influences that shaped his classic children's work. As an artist, Mr. Nel suggests that the term \"energetic cartoon surrealism\" appropriately describes Seuss' creative synthesis of cubism, art nouveau, surrealism and other styles. While Seuss' influence can be detected in modern rap music, children's books, political cartoons and more, Mr. Nel contends that Seuss would not have been happy about the manner in which his works have been posthumously marketed, opining that the \"Disneyification\" or simplification of Seuss' stories for marketable purposes \"threatens to make 'Seuss' synomynous with the ambiguous power of global capitalism\". Such commercialism would appear to collide with Seuss' desire to develop critical thinking among young people and to help us all imagine a better world.I highly recommend this book for everyone interested in gaining greater insight and perspective into one of America's greatest creative talents.</td>\n",
       "    </tr>\n",
       "    <tr>\n",
       "      <th>6</th>\n",
       "      <td>0826414346</td>\n",
       "      <td>Dr. Seuss: American Icon</td>\n",
       "      <td>NaN</td>\n",
       "      <td>A14OJS0VWMOSWO</td>\n",
       "      <td>Midwest Book Review</td>\n",
       "      <td>3/4</td>\n",
       "      <td>5.0</td>\n",
       "      <td>1100131200</td>\n",
       "      <td>A memorably excellent survey of Dr. Seuss' many achievements</td>\n",
       "      <td>Theodor Seuss Giesel was best known as 'Dr. Seuss', one of the most influential and enduringly popular children's authors of the 20th century. Giesel created not only his famous imaginative picturebooks, but a unique art and poetry, and even a place for himself in politics. Philip Nel argues that these added activities make Dr. Seuss one of the most influential people in America - certainly the most influential poet - and Dr. Seuss: American Icon provides the reader an memorably excellent survey of Dr. Seuss' many achievements.</td>\n",
       "    </tr>\n",
       "    <tr>\n",
       "      <th>7</th>\n",
       "      <td>0826414346</td>\n",
       "      <td>Dr. Seuss: American Icon</td>\n",
       "      <td>NaN</td>\n",
       "      <td>A2RSSXTDZDUSH4</td>\n",
       "      <td>J. Squire</td>\n",
       "      <td>0/0</td>\n",
       "      <td>5.0</td>\n",
       "      <td>1231200000</td>\n",
       "      <td>Academia At It's Best</td>\n",
       "      <td>When I recieved this book as a gift for Christmas my first impression went along these line: \"Oh great some professor who probably wrote alot of mumbo-jumbo that I don't want to know about Dr. Suess and I know it won't be an enjoyable read.\"Thanks goodness I read it nonetheless.To my pleasure, Nel hardly writes in the airy academia style with which I expected him to. In fact, he's writes so far from it, with a smart and precise style, I am tempted to revise how I feel about professor-writers. However, in accordance with his academia roots, Nel has a 100 page annotated bibliogarphy that goes along with his work, a nice shrine to prove his homework was well done.As far the actual book goes it is an excellent piece work. \"Dr. Seuss: American Icon\" looks at the man behind Dr. Suess not as a straight-forward biography, but rather it focuses on different areas of Dr. Suess (i.e. poet, poetry of, artist, artistic style, adult, activist, etc.) and interjects those discussions with biogrphical anecdotes. A very effective attention keeping method.If you're interested in learning more about the work and the man behind the work of Dr. Suess, this is the book that speaks to both and even more. Highly recommended!</td>\n",
       "    </tr>\n",
       "    <tr>\n",
       "      <th>8</th>\n",
       "      <td>0826414346</td>\n",
       "      <td>Dr. Seuss: American Icon</td>\n",
       "      <td>NaN</td>\n",
       "      <td>A25MD5I2GUIW6W</td>\n",
       "      <td>J. P. HIGBED \"big fellow\"</td>\n",
       "      <td>0/0</td>\n",
       "      <td>5.0</td>\n",
       "      <td>1209859200</td>\n",
       "      <td>And to think that I read it on the tram!</td>\n",
       "      <td>Trams (or any public transport) are not usually the best place to read and absorb scholarly texts. But this one has accompanied me on my daily commute, and I have been absorbed in it. It is well written and comprehensive, and tells the tale of a modern author, with plenty of \"Fancy that\" and \"Well, well\" moments. Highly recommended for stationary reading, too.</td>\n",
       "    </tr>\n",
       "    <tr>\n",
       "      <th>9</th>\n",
       "      <td>0826414346</td>\n",
       "      <td>Dr. Seuss: American Icon</td>\n",
       "      <td>NaN</td>\n",
       "      <td>A3VA4XFS5WNJO3</td>\n",
       "      <td>Donald Burnside</td>\n",
       "      <td>3/5</td>\n",
       "      <td>4.0</td>\n",
       "      <td>1076371200</td>\n",
       "      <td>Fascinating account of a genius at work</td>\n",
       "      <td>As far as I am aware, this is the first book-length study of the work of Dr. Seuss, and Philip Nel has done an excellent job. If the word 'study' makes you nervous, rest assured: this is not a jargon-filled, pretentious analysis. It is, instead, a nicely written work that views Seuss from several different angles: as a poet, a visual artist, a cartoonist, and so on. Nel writes intelligently on how Seuss fits into the canon of nonsense poets, and provides good background on the roots of Seuss's visual style. Some of the WW2/political cartoon material I had read about before, but Nel covers it thoroughly. The most fascinating chapter to me deals with the marketing of Seuss, particularly since his death. Nel holds forth strongly on the abominable 'Grinch' movie (and I trust he feels the same way about the 'Cat in the Hat' film too), and gets into a very interesting discussion of the possible motivations behind the ever-expanding empire of Dr. Seuss Enterprises. (And no, I don't believe it is purely about the profits!)Two small quibbles prevent me from awarding five stars. Firstly, I would have liked the book to be a little longer. The in-depth bibliography is interesting in itself and will be a goldmine to future researchers, but I'm sure Nel could have found a few more things to say - perhaps about Seuss's gender politics. Secondly, the dust jacket on my copy was a little loose.</td>\n",
       "    </tr>\n",
       "  </tbody>\n",
       "</table>\n",
       "</div>"
      ],
      "text/plain": [
       "           Id                           Title  Price         User_id   \n",
       "0  1882931173  Its Only Art If Its Well Hung!    NaN   AVCGYZL8FQQTD  \\\n",
       "1  0826414346        Dr. Seuss: American Icon    NaN  A30TK6U7DNS82R   \n",
       "2  0826414346        Dr. Seuss: American Icon    NaN  A3UH4UZ4RSVO82   \n",
       "3  0826414346        Dr. Seuss: American Icon    NaN  A2MVUWT453QH61   \n",
       "4  0826414346        Dr. Seuss: American Icon    NaN  A22X4XUPKF66MR   \n",
       "5  0826414346        Dr. Seuss: American Icon    NaN  A2F6NONFUDB6UK   \n",
       "6  0826414346        Dr. Seuss: American Icon    NaN  A14OJS0VWMOSWO   \n",
       "7  0826414346        Dr. Seuss: American Icon    NaN  A2RSSXTDZDUSH4   \n",
       "8  0826414346        Dr. Seuss: American Icon    NaN  A25MD5I2GUIW6W   \n",
       "9  0826414346        Dr. Seuss: American Icon    NaN  A3VA4XFS5WNJO3   \n",
       "\n",
       "                          profileName review/helpfulness  review/score   \n",
       "0               Jim of Oz \"jim-of-oz\"                7/7           4.0  \\\n",
       "1                       Kevin Killian              10/10           5.0   \n",
       "2                        John Granger              10/11           5.0   \n",
       "3  Roy E. Perry \"amateur philosopher\"                7/7           4.0   \n",
       "4     D. H. Richards \"ninthwavestore\"                3/3           4.0   \n",
       "5                              Malvin                2/2           4.0   \n",
       "6                 Midwest Book Review                3/4           5.0   \n",
       "7                           J. Squire                0/0           5.0   \n",
       "8           J. P. HIGBED \"big fellow\"                0/0           5.0   \n",
       "9                     Donald Burnside                3/5           4.0   \n",
       "\n",
       "   review/time                                                review/summary   \n",
       "0    940636800                        Nice collection of Julie Strain images  \\\n",
       "1   1095724800                                             Really Enjoyed It   \n",
       "2   1078790400               Essential for every personal and Public Library   \n",
       "3   1090713600               Phlip Nel gives silly Seuss a serious treatment   \n",
       "4   1107993600                                        Good academic overview   \n",
       "5   1127174400                    One of America's greatest creative talents   \n",
       "6   1100131200  A memorably excellent survey of Dr. Seuss' many achievements   \n",
       "7   1231200000                                         Academia At It's Best   \n",
       "8   1209859200                      And to think that I read it on the tram!   \n",
       "9   1076371200                       Fascinating account of a genius at work   \n",
       "\n",
       "                                                                                                                                                                                                                                                                                                                                                                                                                                                                                                                                                                                                                                                                                                                                                                                                                                                                                                                                                                                                                                                                                                                                                                                                                                                                                                                                                                                                                                                                                                                                                                                                                                                                                                                                                                                                                                                                                                                                                                                                                                                                                                                                                                                                                                                                                                                                                                                                                                                                                                                                                                                                                                                                                                                                                                                                                                                                                                                                                                                                                                                                                                                                                                                                                                                                                                                                                                                                                                                                                                                                                                                                                                                                                                                                                                                                      review/text  \n",
       "0                                                                                                                                                                                                                                                                                                                                                                                                                                                                                                                                                                                                                                                                                                                                                                                                                                                                                                                                                                                                                                                                                                                                                                                                                                                                                                                                                                                                                                                                                                                                                                                                                                                                                                                                                                                                                                                                                                                                                                                                                                                                                                                                                                                                                                                                                                                                                                                                                                                                                                                                                                                                                                                                                                                                                                                                                                                                                                                                                                                                                                                                                                                                                                                                                                                                                                                                       This is only for Julie Strain fans. It's a collection of her photos -- about 80 pages worth with a nice section of paintings by Olivia.If you're looking for heavy literary content, this isn't the place to find it -- there's only about 2 pages with text and everything else is photos.Bottom line: if you only want one book, the Six Foot One ... is probably a better choice, however, if you like Julie like I like Julie, you won't go wrong on this one either.  \n",
       "1                                                                                                                                                                                                                                                                                                                                                                                                                                                                                                                                                                                                                                                                                                                                                                                                                                                                                                                                                                                                                                                                                                                                                                                                                                                                                                                                                                                                                                                                                                                                                                                                                                                                                                                                                                                                                                                                                                                                                                                                                                                                                                                                                                                                                                                                                                                                 I don't care much for Dr. Seuss but after reading Philip Nel's book I changed my mind--that's a good testimonial to the power of Rel's writing and thinking. Rel plays Dr. Seuss the ultimate compliment of treating him as a serious poet as well as one of the 20th century's most interesting visual artists, and after reading his book I decided that a trip to the Mandeville Collections of the library at University of California in San Diego was in order, so I could visit some of the incredible Seuss/Geisel holdings they have there.There's almost too much to take in, for, like William Butler Yeats, Seuss led a career that constantly shifted and metamoprhized itself to meet new historical and political cirsumstances, so he seems to have been both a leftist and a conservative at different junctures of his career, both in politics and in art. As Nel shows us, he was once a cartoonist for the fabled PM magazine and, like Andy Warhol, he served his time slaving in the ad business too. All was in the service of amusing and broadening the minds of US children. Nel doesn't hesitate to administer a sound spanking to the Seuss industry that, since his death, has seen fit to license all kinds of awful products including the recent CAT IN THE HAT film with Mike Myers. Oh, what a cat-astrophe!The book is great and I can especially recommend the work of the picture editor who has given us a bounty of good illustrations.  \n",
       "2                                                                                                                                                                                                                                                                                                                                                                                                                                                                                                                                                                                                                                                                                                                                                                                                                                                                                                                                                                                                                                                                                                                                                                                                                                                                                                                                                                                                                                                                                                                                                                                                                                                                                                                                                                                                                                                                                                                                                                                        If people become the books they read and if \"the child is father to the man,\" then Dr. Seuss (Theodor Seuss Geisel) is the most influential author, poet, and artist of modern times. For me, a daddy to a large family who learned to read with Dr. Seuss and who has memorized too many of the books via repeated readings to young children, Prof. Nel's brilliant 'American Icon' is a long awaited treat. At last a serious treatment of this remarkable genius that is both an engaging read and filled with remarkable insights! I especially enjoyed (and learned more than I care to admit from) Prof. Nel's discussions of the Disneyfication of Seuss - which Nel links to failings in American copyright law, \"the other sides of Dr. Seuss\" - all of which sides were new to me, and the political genesis of his secular morality in the WWII cartoon work he did at PM magazine. The chapters on Geisel's poetry and artwork and the link Nel makes between Seuss and the historical avant guarde alone make this book a \"must buy\" for parents and serious readers, not to mention public libraries. Readers of Nel's other books will find the same engaging writing style that makes the book a fun read while imparting a mountain of information and important ideas. This is simply the best and most comprehensive book yet written on the work of Seuss Geisel and what will certainly be the standard for many years to come. Thank you, Prof. Nel, wherever you are, from a reader who grew up with the good doctor and who is growing up with him again years later. Your book, written from your encyclopeadic knowledge of children's literature and the media of this genre - from scanning verse to cubist painting! - explains the power, limits, and popularity of the Seuss phenomenon.  \n",
       "3  Theodore Seuss Geisel (1904-1991), aka &quot;Dr. Seuss,&quot; was one of the most influential writers and artists of the 20th century.In 1959, Rudolf Flesch wrote, &quot;A hundred years from now, children and their parents will still eagerly read the books of a fellow called Ted Geisel, popularly known as Dr. Seuss.&quot;Flesch was too conservative in his prediction. A century, and more, from today, Dr. Seuss will still be read when many authors on today's bestseller lists will be forgotten.Published on the centenary of Geisel's birth, Dr. Seuss: American Icon analyzes six key aspects of Seuss's career: poetry, politics, art, biography, marketing, and influence.In six insightful chapters, Philip Nel, Assistant Professor of English at Kansas State University, discusses &quot;U.S. Laureate of Nonsense,&quot; &quot;Dr. Seuss vs. Adolf Hitler,&quot; &quot;The Doc in the Smock,&quot; &quot;The 5,000 Fingers of Dr. S.,&quot; &quot;The Disneyfication of Dr. Seuss,&quot; and &quot;The Cat in the Hat for President.&quot;Nel gives short shrift to Geisel's childhood and family background--and, indeed, to biography in general--preferring to focus on Seuss's writing and art, from his first book, And to Think That I Saw It on Mulberry Street (1937) to his last book, Oh, the Places You'll Go! (1990).Dr. Seuss's breakthrough year was 1957, when he published the two books with which he is most often identified: The Cat in the Hat and How the Grinch Stole Christmas!Other classic works in the Seussian canon are: Horton Hears a Who! (&quot;A person's a person, no matter how small&quot;), Yertle the Turtle (modeled on the rise of Adolf Hitler), Green Eggs and Ham (Seuss's bestselling book), The Sneeches (a criticism of anti-Semitism), The Lorax (a protest against corporate abuse of the environment), and The Butter Battle Book (a critique of Reagan's enthusiasm for the nuclear arms trace).His favorite work, among the books he authored, was The Cat in the Hat, for it, more than any other, taught children to read.While many of his books have a clear and powerful moral, Seuss had a horror of heavy-handed preaching. He sought to teach and ignite the imagination, but was a lifelong opponent of smug, self-righteous bourgeois moralism.&quot;Seuss was a contrarian,&quot; writes Nel, &quot;who enjoyed challenging people to reconsider their assumptions. [He had a] rebellious imagination and a dispositional distaste for rules and regulations.&quot; His work was a &quot;rational insanity&quot; that exhibited &quot;joyous anarchy&quot; and a &quot;lifelong thrill in misbehaving.&quot;A better subtitle for Nel's work would have been American Icon and Iconoclast.Nel tells of Seuss's early years as an advertising artist and as a agitprop cartoonist. The book, however, is not a biography; it is a serious study in the genres of literary and art criticism.For readers who want more biographical information, Nel recommends Dr. Seuss and Mr. Geisel, by Judith Morgan and Neil Morgan (1995), which he describes as &quot;the definitive biography and the single best secondary source on Seuss. Any discussion of Seuss's life and work must begin with this book.&quot;Dr. Seuss: American Icon includes 103 pages of notes, index, and the most comprehensive annotated Seuss bibliography ever assembled. One learns a lot from this book; the author's lucid style makes it not only an enlightening work but a fun read.Philip Nel is the author of J. K. Rowling's Harry Potter Novels: A Reader's Guide (2001) and The Avant-Garde and American Postmodernity (2002).Roy E. Perry of Nolensville, Tennessee, is an advertising copywriter at a Nashville publishing house.  \n",
       "4                                                                                                                                                                                                                                                                                                                                                                                                                                                                                                                                                                                                                                                                                                                                                                                                                                                                                                                                                                                                                                                                                                                                                                                                                                                                                                                                                                                                                                                                                                                                                                                                                                                                                                                                                                                                                                                                                                                                                                                                                                                                                                                                                                                                          Philip Nel - Dr. Seuss: American IconThis is basically an academic overview of Seuss poetry, art, cartoons, and the problems with the commercialization of the Seuss name and works after his death. It is not, to any real extent, a biography. Those seeking such should move on.As an academic book it leans on the dry side. It assumes the reader has a fairly good knowledge of Children's Literature and 20th Century cartoons (not the animated kind). Not a book to begin your Dr. Seuss experience with. But if you have read them to your children and are interested about the writing style (there is a good chapter about his poetry) or his art style (not as good a chapter, but still interesting).What interested me the most was the deconstruction of the recent rush to \"cash in\" on Seuss by Hollywood and advertisers. I think that Nel wants to come down against it, but based on Seuss' background (he started out drawing Flit ads) and the projects he approved during his lifetime; it is a tough argument to make. In the end though Nel does point out that maybe the movies and tie- ins did not have to be so... crass?The book is well researched; lots of neat tidbits are to be gleamed. Early cartoons by Seuss for PM magazine were occasionally (by today's standards) shockingly racist. It makes him a little more human and puts his latter works like the Lorax in a new light.Those in Education may enjoy this background. Fans of Seuss will enjoy the exhaustive bibliography of Seuss's many, many works. Also good list of other works about the man.  \n",
       "5                                                                                                                                                                                                                                                                                                                                                                                                                                                                                                                                                                                                                                                                                                                                                                                                                                                                                                                                                                                                                                                                                                                                                                                                                                                                                                                                                                                                                                                                                                                                                                                                                                                                                                                                                         \"Dr. Seuss: American Icon\" by Philip Nel is a thoughtful deconstruction of the life and work of Theodore Geisel (aka Dr. Seuss). In this thoughtful book, Mr. Nel deepens our appreciation for Seuss as a distinctively American poet, artist and educator. The author demonstrates Seuss' wide ranging influence and argues for his rightful place among the most important cultural figures of the 20th century.An English professor at Kansas State University, Mr. Nel uses his historic knowledge to discuss how Seuss' text belongs to a tradition of great nonsense writers. Mr. Nel states that Seuss' carefully-constructed absurdist tales encourage children to challenge the status quo by gently skewering the grown-up world; elsewhere, he uses charts to show how Seuss effectively used meter and rhyme to complement his intentionally ridiculous plots and create masterful stories that have stood up well to the test of time.Mr. Nel recounts Seuss' early career as advertising illustrator and political cartoonist to help us better understand the influences that shaped his classic children's work. As an artist, Mr. Nel suggests that the term \"energetic cartoon surrealism\" appropriately describes Seuss' creative synthesis of cubism, art nouveau, surrealism and other styles. While Seuss' influence can be detected in modern rap music, children's books, political cartoons and more, Mr. Nel contends that Seuss would not have been happy about the manner in which his works have been posthumously marketed, opining that the \"Disneyification\" or simplification of Seuss' stories for marketable purposes \"threatens to make 'Seuss' synomynous with the ambiguous power of global capitalism\". Such commercialism would appear to collide with Seuss' desire to develop critical thinking among young people and to help us all imagine a better world.I highly recommend this book for everyone interested in gaining greater insight and perspective into one of America's greatest creative talents.  \n",
       "6                                                                                                                                                                                                                                                                                                                                                                                                                                                                                                                                                                                                                                                                                                                                                                                                                                                                                                                                                                                                                                                                                                                                                                                                                                                                                                                                                                                                                                                                                                                                                                                                                                                                                                                                                                                                                                                                                                                                                                                                                                                                                                                                                                                                                                                                                                                                                                                                                                                                                                                                                                                                                                                                                                                                                                                                                                                                                                                                                                                                                                                                                                                                                                                                                                                           Theodor Seuss Giesel was best known as 'Dr. Seuss', one of the most influential and enduringly popular children's authors of the 20th century. Giesel created not only his famous imaginative picturebooks, but a unique art and poetry, and even a place for himself in politics. Philip Nel argues that these added activities make Dr. Seuss one of the most influential people in America - certainly the most influential poet - and Dr. Seuss: American Icon provides the reader an memorably excellent survey of Dr. Seuss' many achievements.  \n",
       "7                                                                                                                                                                                                                                                                                                                                                                                                                                                                                                                                                                                                                                                                                                                                                                                                                                                                                                                                                                                                                                                                                                                                                                                                                                                                                                                                                                                                                                                                                                                                                                                                                                                                                                                                                                                                                                                                                                                                                                                                                                                                                                                                                                                                                                                                                                                                                                                                                                                                                                                                             When I recieved this book as a gift for Christmas my first impression went along these line: \"Oh great some professor who probably wrote alot of mumbo-jumbo that I don't want to know about Dr. Suess and I know it won't be an enjoyable read.\"Thanks goodness I read it nonetheless.To my pleasure, Nel hardly writes in the airy academia style with which I expected him to. In fact, he's writes so far from it, with a smart and precise style, I am tempted to revise how I feel about professor-writers. However, in accordance with his academia roots, Nel has a 100 page annotated bibliogarphy that goes along with his work, a nice shrine to prove his homework was well done.As far the actual book goes it is an excellent piece work. \"Dr. Seuss: American Icon\" looks at the man behind Dr. Suess not as a straight-forward biography, but rather it focuses on different areas of Dr. Suess (i.e. poet, poetry of, artist, artistic style, adult, activist, etc.) and interjects those discussions with biogrphical anecdotes. A very effective attention keeping method.If you're interested in learning more about the work and the man behind the work of Dr. Suess, this is the book that speaks to both and even more. Highly recommended!  \n",
       "8                                                                                                                                                                                                                                                                                                                                                                                                                                                                                                                                                                                                                                                                                                                                                                                                                                                                                                                                                                                                                                                                                                                                                                                                                                                                                                                                                                                                                                                                                                                                                                                                                                                                                                                                                                                                                                                                                                                                                                                                                                                                                                                                                                                                                                                                                                                                                                                                                                                                                                                                                                                                                                                                                                                                                                                                                                                                                                                                                                                                                                                                                                                                                                                                                                                                                                                                                                                                                                      Trams (or any public transport) are not usually the best place to read and absorb scholarly texts. But this one has accompanied me on my daily commute, and I have been absorbed in it. It is well written and comprehensive, and tells the tale of a modern author, with plenty of \"Fancy that\" and \"Well, well\" moments. Highly recommended for stationary reading, too.  \n",
       "9                                                                                                                                                                                                                                                                                                                                                                                                                                                                                                                                                                                                                                                                                                                                                                                                                                                                                                                                                                                                                                                                                                                                                                                                                                                                                                                                                                                                                                                                                                                                                                                                                                                                                                                                                                                                                                                                                                                                                                                                                                                                                                                                                                                                                                                                                                                                                         As far as I am aware, this is the first book-length study of the work of Dr. Seuss, and Philip Nel has done an excellent job. If the word 'study' makes you nervous, rest assured: this is not a jargon-filled, pretentious analysis. It is, instead, a nicely written work that views Seuss from several different angles: as a poet, a visual artist, a cartoonist, and so on. Nel writes intelligently on how Seuss fits into the canon of nonsense poets, and provides good background on the roots of Seuss's visual style. Some of the WW2/political cartoon material I had read about before, but Nel covers it thoroughly. The most fascinating chapter to me deals with the marketing of Seuss, particularly since his death. Nel holds forth strongly on the abominable 'Grinch' movie (and I trust he feels the same way about the 'Cat in the Hat' film too), and gets into a very interesting discussion of the possible motivations behind the ever-expanding empire of Dr. Seuss Enterprises. (And no, I don't believe it is purely about the profits!)Two small quibbles prevent me from awarding five stars. Firstly, I would have liked the book to be a little longer. The in-depth bibliography is interesting in itself and will be a goldmine to future researchers, but I'm sure Nel could have found a few more things to say - perhaps about Seuss's gender politics. Secondly, the dust jacket on my copy was a little loose.  "
      ]
     },
     "execution_count": 84,
     "metadata": {},
     "output_type": "execute_result"
    }
   ],
   "source": [
    "df.head(10)"
   ]
  }
 ],
 "metadata": {
  "kernelspec": {
   "display_name": "bigdata-env",
   "language": "python",
   "name": "python3"
  },
  "language_info": {
   "codemirror_mode": {
    "name": "ipython",
    "version": 3
   },
   "file_extension": ".py",
   "mimetype": "text/x-python",
   "name": "python",
   "nbconvert_exporter": "python",
   "pygments_lexer": "ipython3",
   "version": "3.11.3"
  },
  "orig_nbformat": 4
 },
 "nbformat": 4,
 "nbformat_minor": 2
}
