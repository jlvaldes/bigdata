{
 "cells": [
  {
   "attachments": {},
   "cell_type": "markdown",
   "metadata": {},
   "source": [
    "# CÓDIGO PARA EVALUAR DATASETS\n",
    "Este Jupyter Notebook es para que dado un dataset que se almacene en la variable 'path', se pueda extraer información de valor sobre dicho dataset."
   ]
  },
  {
   "cell_type": "code",
   "execution_count": 2,
   "metadata": {},
   "outputs": [],
   "source": [
    "import pandas as pd\n",
    "import os\n",
    "pd.set_option('display.max_colwidth', None)"
   ]
  },
  {
   "attachments": {},
   "cell_type": "markdown",
   "metadata": {},
   "source": [
    "Definir el path del dataset que se necesita evaluar:"
   ]
  },
  {
   "cell_type": "code",
   "execution_count": 14,
   "metadata": {},
   "outputs": [],
   "source": [
    "#https://www.kaggle.com/datasets/utkarshx27/consumer-complaint\n",
    "path = \"../../Datasets/books_rating.csv\"\n"
   ]
  },
  {
   "attachments": {},
   "cell_type": "markdown",
   "metadata": {},
   "source": [
    "Cargar el dataset en un data frame de pandas:"
   ]
  },
  {
   "cell_type": "code",
   "execution_count": 15,
   "metadata": {},
   "outputs": [],
   "source": [
    "ruta_csv = path\n",
    "ruta_absoluta = os.path.abspath(ruta_csv)\n",
    "df = pd.DataFrame()"
   ]
  },
  {
   "attachments": {},
   "cell_type": "markdown",
   "metadata": {},
   "source": [
    "Tamaño del dataset (en MB)"
   ]
  },
  {
   "cell_type": "code",
   "execution_count": 4,
   "metadata": {},
   "outputs": [
    {
     "name": "stdout",
     "output_type": "stream",
     "text": [
      "Tamaño en memoria es de 2727.0 MB, sí cumple\n"
     ]
    }
   ],
   "source": [
    "size = round(os.path.getsize(path)/1024 ** 2, 0)\n",
    "print(f\"Tamaño en memoria es de {size} MB, sí cumple\" if size > 250 else f\"El tamaño en memoria: {size} MB no cumple el requerimiento\")"
   ]
  },
  {
   "attachments": {},
   "cell_type": "markdown",
   "metadata": {},
   "source": [
    "Cuáles son las columnas del dataset?"
   ]
  },
  {
   "cell_type": "code",
   "execution_count": 10,
   "metadata": {},
   "outputs": [
    {
     "name": "stdout",
     "output_type": "stream",
     "text": [
      "<class 'pandas.core.frame.DataFrame'>\n",
      "RangeIndex: 0 entries\n",
      "Empty DataFrame\n"
     ]
    }
   ],
   "source": [
    "df.info()"
   ]
  },
  {
   "attachments": {},
   "cell_type": "markdown",
   "metadata": {},
   "source": [
    "Evaluación de los valores NULLs del dataset. Porcentaje que representa los valores de NULL por columnas, respecto al total."
   ]
  },
  {
   "cell_type": "code",
   "execution_count": 16,
   "metadata": {},
   "outputs": [
    {
     "data": {
      "text/html": [
       "<div>\n",
       "<style scoped>\n",
       "    .dataframe tbody tr th:only-of-type {\n",
       "        vertical-align: middle;\n",
       "    }\n",
       "\n",
       "    .dataframe tbody tr th {\n",
       "        vertical-align: top;\n",
       "    }\n",
       "\n",
       "    .dataframe thead th {\n",
       "        text-align: right;\n",
       "    }\n",
       "</style>\n",
       "<table border=\"1\" class=\"dataframe\">\n",
       "  <thead>\n",
       "    <tr style=\"text-align: right;\">\n",
       "      <th></th>\n",
       "      <th>Cantidad Null</th>\n",
       "      <th>Porcentaje</th>\n",
       "    </tr>\n",
       "  </thead>\n",
       "  <tbody>\n",
       "    <tr>\n",
       "      <th>Id</th>\n",
       "      <td>0</td>\n",
       "      <td>0.0%</td>\n",
       "    </tr>\n",
       "    <tr>\n",
       "      <th>Title</th>\n",
       "      <td>208</td>\n",
       "      <td>0.01%</td>\n",
       "    </tr>\n",
       "    <tr>\n",
       "      <th>Price</th>\n",
       "      <td>2518829</td>\n",
       "      <td>83.96%</td>\n",
       "    </tr>\n",
       "    <tr>\n",
       "      <th>User_id</th>\n",
       "      <td>561787</td>\n",
       "      <td>18.73%</td>\n",
       "    </tr>\n",
       "    <tr>\n",
       "      <th>profileName</th>\n",
       "      <td>561905</td>\n",
       "      <td>18.73%</td>\n",
       "    </tr>\n",
       "    <tr>\n",
       "      <th>review/helpfulness</th>\n",
       "      <td>0</td>\n",
       "      <td>0.0%</td>\n",
       "    </tr>\n",
       "    <tr>\n",
       "      <th>review/score</th>\n",
       "      <td>0</td>\n",
       "      <td>0.0%</td>\n",
       "    </tr>\n",
       "    <tr>\n",
       "      <th>review/time</th>\n",
       "      <td>0</td>\n",
       "      <td>0.0%</td>\n",
       "    </tr>\n",
       "    <tr>\n",
       "      <th>review/summary</th>\n",
       "      <td>407</td>\n",
       "      <td>0.01%</td>\n",
       "    </tr>\n",
       "    <tr>\n",
       "      <th>review/text</th>\n",
       "      <td>8</td>\n",
       "      <td>0.0%</td>\n",
       "    </tr>\n",
       "  </tbody>\n",
       "</table>\n",
       "</div>"
      ],
      "text/plain": [
       "                    Cantidad Null Porcentaje\n",
       "Id                              0       0.0%\n",
       "Title                         208      0.01%\n",
       "Price                     2518829     83.96%\n",
       "User_id                    561787     18.73%\n",
       "profileName                561905     18.73%\n",
       "review/helpfulness              0       0.0%\n",
       "review/score                    0       0.0%\n",
       "review/time                     0       0.0%\n",
       "review/summary                407      0.01%\n",
       "review/text                     8       0.0%"
      ]
     },
     "execution_count": 16,
     "metadata": {},
     "output_type": "execute_result"
    }
   ],
   "source": [
    "\n",
    "df = pd.read_csv(ruta_absoluta)\n",
    "null_counts = df.isnull().sum()\n",
    "null_percentages = round((null_counts / len(df)) * 100,2)\n",
    "result = pd.DataFrame({'Cantidad Null': null_counts, 'Porcentaje': null_percentages})\n",
    "result[\"Porcentaje\"] = result[\"Porcentaje\"].apply(lambda x: str(x) + \"%\")\n",
    "result"
   ]
  },
  {
   "attachments": {},
   "cell_type": "markdown",
   "metadata": {},
   "source": [
    "Cual es el tamaño máximo de las columna en el data frame:"
   ]
  },
  {
   "cell_type": "code",
   "execution_count": 67,
   "metadata": {},
   "outputs": [
    {
     "name": "stdout",
     "output_type": "stream",
     "text": [
      "Id                       10\n",
      "Title                   445\n",
      "Price                     6\n",
      "User_id                  21\n",
      "profileName              49\n",
      "review/helpfulness       11\n",
      "review/score              3\n",
      "review/time              10\n",
      "review/summary          249\n",
      "review/text           32576\n",
      "dtype: int64\n"
     ]
    }
   ],
   "source": [
    "col_value_size = df.applymap(lambda x: len(str(x))).max()\n",
    "print(col_value_size)"
   ]
  },
  {
   "cell_type": "code",
   "execution_count": 6,
   "metadata": {},
   "outputs": [
    {
     "data": {
      "text/html": [
       "<div>\n",
       "<style scoped>\n",
       "    .dataframe tbody tr th:only-of-type {\n",
       "        vertical-align: middle;\n",
       "    }\n",
       "\n",
       "    .dataframe tbody tr th {\n",
       "        vertical-align: top;\n",
       "    }\n",
       "\n",
       "    .dataframe thead th {\n",
       "        text-align: right;\n",
       "    }\n",
       "</style>\n",
       "<table border=\"1\" class=\"dataframe\">\n",
       "  <thead>\n",
       "    <tr style=\"text-align: right;\">\n",
       "      <th></th>\n",
       "      <th>Title</th>\n",
       "      <th>description</th>\n",
       "      <th>authors</th>\n",
       "      <th>image</th>\n",
       "      <th>previewLink</th>\n",
       "      <th>publisher</th>\n",
       "      <th>publishedDate</th>\n",
       "      <th>infoLink</th>\n",
       "      <th>categories</th>\n",
       "      <th>ratingsCount</th>\n",
       "    </tr>\n",
       "  </thead>\n",
       "  <tbody>\n",
       "    <tr>\n",
       "      <th>0</th>\n",
       "      <td>Its Only Art If Its Well Hung!</td>\n",
       "      <td>NaN</td>\n",
       "      <td>['Julie Strain']</td>\n",
       "      <td>http://books.google.com/books/content?id=DykPAAAACAAJ&amp;printsec=frontcover&amp;img=1&amp;zoom=1&amp;source=gbs_api</td>\n",
       "      <td>http://books.google.nl/books?id=DykPAAAACAAJ&amp;dq=Its+Only+Art+If+Its+Well+Hung!&amp;hl=&amp;cd=1&amp;source=gbs_api</td>\n",
       "      <td>NaN</td>\n",
       "      <td>1996</td>\n",
       "      <td>http://books.google.nl/books?id=DykPAAAACAAJ&amp;dq=Its+Only+Art+If+Its+Well+Hung!&amp;hl=&amp;source=gbs_api</td>\n",
       "      <td>['Comics &amp; Graphic Novels']</td>\n",
       "      <td>NaN</td>\n",
       "    </tr>\n",
       "    <tr>\n",
       "      <th>1</th>\n",
       "      <td>Dr. Seuss: American Icon</td>\n",
       "      <td>Philip Nel takes a fascinating look into the key aspects of Seuss's career - his poetry, politics, art, marketing, and place in the popular imagination.\" \"Nel argues convincingly that Dr. Seuss is one of the most influential poets in America. His nonsense verse, like that of Lewis Carroll and Edward Lear, has changed language itself, giving us new words like \"nerd.\" And Seuss's famously loopy artistic style - what Nel terms an \"energetic cartoon surrealism\" - has been equally important, inspiring artists like filmmaker Tim Burton and illustrator Lane Smith. --from back cover</td>\n",
       "      <td>['Philip Nel']</td>\n",
       "      <td>http://books.google.com/books/content?id=IjvHQsCn_pgC&amp;printsec=frontcover&amp;img=1&amp;zoom=1&amp;edge=curl&amp;source=gbs_api</td>\n",
       "      <td>http://books.google.nl/books?id=IjvHQsCn_pgC&amp;printsec=frontcover&amp;dq=Dr.+Seuss:+American+Icon&amp;hl=&amp;cd=1&amp;source=gbs_api</td>\n",
       "      <td>A&amp;C Black</td>\n",
       "      <td>2005-01-01</td>\n",
       "      <td>http://books.google.nl/books?id=IjvHQsCn_pgC&amp;dq=Dr.+Seuss:+American+Icon&amp;hl=&amp;source=gbs_api</td>\n",
       "      <td>['Biography &amp; Autobiography']</td>\n",
       "      <td>NaN</td>\n",
       "    </tr>\n",
       "    <tr>\n",
       "      <th>2</th>\n",
       "      <td>Wonderful Worship in Smaller Churches</td>\n",
       "      <td>This resource includes twelve principles in understanding small church worship, fifteen practices for planning worship with fewer than 100 people, and suggestions for congregational study.</td>\n",
       "      <td>['David R. Ray']</td>\n",
       "      <td>http://books.google.com/books/content?id=2tsDAAAACAAJ&amp;printsec=frontcover&amp;img=1&amp;zoom=1&amp;source=gbs_api</td>\n",
       "      <td>http://books.google.nl/books?id=2tsDAAAACAAJ&amp;dq=Wonderful+Worship+in+Smaller+Churches&amp;hl=&amp;cd=1&amp;source=gbs_api</td>\n",
       "      <td>NaN</td>\n",
       "      <td>2000</td>\n",
       "      <td>http://books.google.nl/books?id=2tsDAAAACAAJ&amp;dq=Wonderful+Worship+in+Smaller+Churches&amp;hl=&amp;source=gbs_api</td>\n",
       "      <td>['Religion']</td>\n",
       "      <td>NaN</td>\n",
       "    </tr>\n",
       "    <tr>\n",
       "      <th>3</th>\n",
       "      <td>Whispers of the Wicked Saints</td>\n",
       "      <td>Julia Thomas finds her life spinning out of control after the death of her husband, Richard. Julia turns to her minister for comfort when she finds herself falling for him with a passion that is forbidden by the church. Heath Sparks is a man of God who is busy taking care of his quadriplegic wife who was seriously injured in a sever car accident. In an innocent effort to reach out to a lonely member of his church, Heath finds himself as the man and not the minister as Heath and Julia surrender their bodies to each other and face the wrath of God. Julia finds herself in over her head as she faces a deadly disease, the loss of her home and whispers about her wicked affair. Julia leaves the states offering her body as a living sacrifice in hopes of finding a cure while her heart remains thousands of miles away hoping to one day reunite with the man who holds it hostage.Whispers of the Wicked Saints is a once in a lifetime romance that is breath taking, defying all the rules of romance and bending the laws of love.</td>\n",
       "      <td>['Veronica Haddon']</td>\n",
       "      <td>http://books.google.com/books/content?id=aRSIgJlq6JwC&amp;printsec=frontcover&amp;img=1&amp;zoom=1&amp;source=gbs_api</td>\n",
       "      <td>http://books.google.nl/books?id=aRSIgJlq6JwC&amp;dq=Whispers+of+the+Wicked+Saints&amp;hl=&amp;cd=1&amp;source=gbs_api</td>\n",
       "      <td>iUniverse</td>\n",
       "      <td>2005-02</td>\n",
       "      <td>http://books.google.nl/books?id=aRSIgJlq6JwC&amp;dq=Whispers+of+the+Wicked+Saints&amp;hl=&amp;source=gbs_api</td>\n",
       "      <td>['Fiction']</td>\n",
       "      <td>NaN</td>\n",
       "    </tr>\n",
       "    <tr>\n",
       "      <th>4</th>\n",
       "      <td>Nation Dance: Religion, Identity and Cultural Difference in the Caribbean</td>\n",
       "      <td>NaN</td>\n",
       "      <td>['Edward Long']</td>\n",
       "      <td>NaN</td>\n",
       "      <td>http://books.google.nl/books?id=399SPgAACAAJ&amp;dq=Nation+Dance:+Religion,+Identity+and+Cultural+Difference+in+the+Caribbean&amp;hl=&amp;cd=1&amp;source=gbs_api</td>\n",
       "      <td>NaN</td>\n",
       "      <td>2003-03-01</td>\n",
       "      <td>http://books.google.nl/books?id=399SPgAACAAJ&amp;dq=Nation+Dance:+Religion,+Identity+and+Cultural+Difference+in+the+Caribbean&amp;hl=&amp;source=gbs_api</td>\n",
       "      <td>NaN</td>\n",
       "      <td>NaN</td>\n",
       "    </tr>\n",
       "    <tr>\n",
       "      <th>5</th>\n",
       "      <td>The Church of Christ: A Biblical Ecclesiology for Today</td>\n",
       "      <td>In The Church of Christ: A Biblical Ecclesiology for Today, respected biblical scholar Everett Ferguson presents a genuine biblical theology of the church. By systematically examining the New Testament's teaching on the existence, meaning, and purpose of the church, providing responsible coverage of the traditional topics in ecclesiology, and carefully grounding ecclesiology in the person and work of Christ, Ferguson unveils a comprehensive model of the church that is both biblically centered and relevant to a world on the verge of the twenty-first century.</td>\n",
       "      <td>['Everett Ferguson']</td>\n",
       "      <td>http://books.google.com/books/content?id=kVqRaiPlx88C&amp;printsec=frontcover&amp;img=1&amp;zoom=1&amp;edge=curl&amp;source=gbs_api</td>\n",
       "      <td>http://books.google.nl/books?id=kVqRaiPlx88C&amp;printsec=frontcover&amp;dq=The+Church+of+Christ:+A+Biblical+Ecclesiology+for+Today&amp;hl=&amp;cd=1&amp;source=gbs_api</td>\n",
       "      <td>Wm. B. Eerdmans Publishing</td>\n",
       "      <td>1996</td>\n",
       "      <td>http://books.google.nl/books?id=kVqRaiPlx88C&amp;dq=The+Church+of+Christ:+A+Biblical+Ecclesiology+for+Today&amp;hl=&amp;source=gbs_api</td>\n",
       "      <td>['Religion']</td>\n",
       "      <td>5.0</td>\n",
       "    </tr>\n",
       "    <tr>\n",
       "      <th>6</th>\n",
       "      <td>The Overbury affair (Avon)</td>\n",
       "      <td>NaN</td>\n",
       "      <td>['Miriam Allen De Ford']</td>\n",
       "      <td>NaN</td>\n",
       "      <td>http://books.google.nl/books?id=mHLTngEACAAJ&amp;dq=The+Overbury+affair+(Avon)&amp;hl=&amp;cd=1&amp;source=gbs_api</td>\n",
       "      <td>NaN</td>\n",
       "      <td>1960</td>\n",
       "      <td>http://books.google.nl/books?id=mHLTngEACAAJ&amp;dq=The+Overbury+affair+(Avon)&amp;hl=&amp;source=gbs_api</td>\n",
       "      <td>NaN</td>\n",
       "      <td>NaN</td>\n",
       "    </tr>\n",
       "    <tr>\n",
       "      <th>7</th>\n",
       "      <td>A Walk in the Woods: a Play in Two Acts</td>\n",
       "      <td>NaN</td>\n",
       "      <td>['Lee Blessing']</td>\n",
       "      <td>NaN</td>\n",
       "      <td>http://books.google.nl/books?id=6HDOwAEACAAJ&amp;dq=A+Walk+in+the+Woods:+a+Play+in+Two+Acts&amp;hl=&amp;cd=1&amp;source=gbs_api</td>\n",
       "      <td>NaN</td>\n",
       "      <td>1988</td>\n",
       "      <td>http://books.google.nl/books?id=6HDOwAEACAAJ&amp;dq=A+Walk+in+the+Woods:+a+Play+in+Two+Acts&amp;hl=&amp;source=gbs_api</td>\n",
       "      <td>NaN</td>\n",
       "      <td>3.0</td>\n",
       "    </tr>\n",
       "    <tr>\n",
       "      <th>8</th>\n",
       "      <td>Saint Hyacinth of Poland</td>\n",
       "      <td>The story for children 10 and up of St. Hyacinth, the Dominican who planted the Faith in Poland, Lithuania and Russia and worked many miracles. He went to Rome, where he met St. Dominic, and was one of the first to receive at his hands the habit of the newly established Order of Friars Preachers. After his novitiate he made his religious profession, and was made superior of the little band of missionaries sent to Poland to preach. Impr. 189 pgs 16 Illus, PB</td>\n",
       "      <td>['Mary Fabyan Windeatt']</td>\n",
       "      <td>http://books.google.com/books/content?id=lmLqAAAACAAJ&amp;printsec=frontcover&amp;img=1&amp;zoom=1&amp;source=gbs_api</td>\n",
       "      <td>http://books.google.nl/books?id=lmLqAAAACAAJ&amp;dq=Saint+Hyacinth+of+Poland&amp;hl=&amp;cd=1&amp;source=gbs_api</td>\n",
       "      <td>Tan Books &amp; Pub</td>\n",
       "      <td>2009-01-01</td>\n",
       "      <td>http://books.google.nl/books?id=lmLqAAAACAAJ&amp;dq=Saint+Hyacinth+of+Poland&amp;hl=&amp;source=gbs_api</td>\n",
       "      <td>['Biography &amp; Autobiography']</td>\n",
       "      <td>NaN</td>\n",
       "    </tr>\n",
       "    <tr>\n",
       "      <th>9</th>\n",
       "      <td>Rising Sons and Daughters: Life Among Japan's New Young</td>\n",
       "      <td>Wardell recalls his experience as a foreign student in Japan, providing a comparison between America and Japan</td>\n",
       "      <td>['Steven Wardell']</td>\n",
       "      <td>NaN</td>\n",
       "      <td>http://books.google.nl/books?id=rbLZugEACAAJ&amp;dq=Rising+Sons+and+Daughters:+Life+Among+Japan%27s+New+Young&amp;hl=&amp;cd=1&amp;source=gbs_api</td>\n",
       "      <td>Plympton PressIntl</td>\n",
       "      <td>1995</td>\n",
       "      <td>http://books.google.nl/books?id=rbLZugEACAAJ&amp;dq=Rising+Sons+and+Daughters:+Life+Among+Japan%27s+New+Young&amp;hl=&amp;source=gbs_api</td>\n",
       "      <td>['Social Science']</td>\n",
       "      <td>NaN</td>\n",
       "    </tr>\n",
       "  </tbody>\n",
       "</table>\n",
       "</div>"
      ],
      "text/plain": [
       "                                                                       Title   \n",
       "0                                             Its Only Art If Its Well Hung!  \\\n",
       "1                                                   Dr. Seuss: American Icon   \n",
       "2                                      Wonderful Worship in Smaller Churches   \n",
       "3                                              Whispers of the Wicked Saints   \n",
       "4  Nation Dance: Religion, Identity and Cultural Difference in the Caribbean   \n",
       "5                    The Church of Christ: A Biblical Ecclesiology for Today   \n",
       "6                                                 The Overbury affair (Avon)   \n",
       "7                                    A Walk in the Woods: a Play in Two Acts   \n",
       "8                                                   Saint Hyacinth of Poland   \n",
       "9                    Rising Sons and Daughters: Life Among Japan's New Young   \n",
       "\n",
       "                                                                                                                                                                                                                                                                                                                                                                                                                                                                                                                                                                                                                                                                                                                                                                                                                                                                                                                                                                                                                                                          description   \n",
       "0                                                                                                                                                                                                                                                                                                                                                                                                                                                                                                                                                                                                                                                                                                                                                                                                                                                                                                                                                                                                                                                                 NaN  \\\n",
       "1                                                                                                                                                                                                                                                                                                                                                                                                                                                               Philip Nel takes a fascinating look into the key aspects of Seuss's career - his poetry, politics, art, marketing, and place in the popular imagination.\" \"Nel argues convincingly that Dr. Seuss is one of the most influential poets in America. His nonsense verse, like that of Lewis Carroll and Edward Lear, has changed language itself, giving us new words like \"nerd.\" And Seuss's famously loopy artistic style - what Nel terms an \"energetic cartoon surrealism\" - has been equally important, inspiring artists like filmmaker Tim Burton and illustrator Lane Smith. --from back cover   \n",
       "2                                                                                                                                                                                                                                                                                                                                                                                                                                                                                                                                                                                                                                                                                                                                                                                                                                                                        This resource includes twelve principles in understanding small church worship, fifteen practices for planning worship with fewer than 100 people, and suggestions for congregational study.   \n",
       "3  Julia Thomas finds her life spinning out of control after the death of her husband, Richard. Julia turns to her minister for comfort when she finds herself falling for him with a passion that is forbidden by the church. Heath Sparks is a man of God who is busy taking care of his quadriplegic wife who was seriously injured in a sever car accident. In an innocent effort to reach out to a lonely member of his church, Heath finds himself as the man and not the minister as Heath and Julia surrender their bodies to each other and face the wrath of God. Julia finds herself in over her head as she faces a deadly disease, the loss of her home and whispers about her wicked affair. Julia leaves the states offering her body as a living sacrifice in hopes of finding a cure while her heart remains thousands of miles away hoping to one day reunite with the man who holds it hostage.Whispers of the Wicked Saints is a once in a lifetime romance that is breath taking, defying all the rules of romance and bending the laws of love.   \n",
       "4                                                                                                                                                                                                                                                                                                                                                                                                                                                                                                                                                                                                                                                                                                                                                                                                                                                                                                                                                                                                                                                                 NaN   \n",
       "5                                                                                                                                                                                                                                                                                                                                                                                                                                                                                 In The Church of Christ: A Biblical Ecclesiology for Today, respected biblical scholar Everett Ferguson presents a genuine biblical theology of the church. By systematically examining the New Testament's teaching on the existence, meaning, and purpose of the church, providing responsible coverage of the traditional topics in ecclesiology, and carefully grounding ecclesiology in the person and work of Christ, Ferguson unveils a comprehensive model of the church that is both biblically centered and relevant to a world on the verge of the twenty-first century.   \n",
       "6                                                                                                                                                                                                                                                                                                                                                                                                                                                                                                                                                                                                                                                                                                                                                                                                                                                                                                                                                                                                                                                                 NaN   \n",
       "7                                                                                                                                                                                                                                                                                                                                                                                                                                                                                                                                                                                                                                                                                                                                                                                                                                                                                                                                                                                                                                                                 NaN   \n",
       "8                                                                                                                                                                                                                                                                                                                                                                                                                                                                                                                                                                                       The story for children 10 and up of St. Hyacinth, the Dominican who planted the Faith in Poland, Lithuania and Russia and worked many miracles. He went to Rome, where he met St. Dominic, and was one of the first to receive at his hands the habit of the newly established Order of Friars Preachers. After his novitiate he made his religious profession, and was made superior of the little band of missionaries sent to Poland to preach. Impr. 189 pgs 16 Illus, PB   \n",
       "9                                                                                                                                                                                                                                                                                                                                                                                                                                                                                                                                                                                                                                                                                                                                                                                                                                                                                                                                                      Wardell recalls his experience as a foreign student in Japan, providing a comparison between America and Japan   \n",
       "\n",
       "                    authors   \n",
       "0          ['Julie Strain']  \\\n",
       "1            ['Philip Nel']   \n",
       "2          ['David R. Ray']   \n",
       "3       ['Veronica Haddon']   \n",
       "4           ['Edward Long']   \n",
       "5      ['Everett Ferguson']   \n",
       "6  ['Miriam Allen De Ford']   \n",
       "7          ['Lee Blessing']   \n",
       "8  ['Mary Fabyan Windeatt']   \n",
       "9        ['Steven Wardell']   \n",
       "\n",
       "                                                                                                             image   \n",
       "0            http://books.google.com/books/content?id=DykPAAAACAAJ&printsec=frontcover&img=1&zoom=1&source=gbs_api  \\\n",
       "1  http://books.google.com/books/content?id=IjvHQsCn_pgC&printsec=frontcover&img=1&zoom=1&edge=curl&source=gbs_api   \n",
       "2            http://books.google.com/books/content?id=2tsDAAAACAAJ&printsec=frontcover&img=1&zoom=1&source=gbs_api   \n",
       "3            http://books.google.com/books/content?id=aRSIgJlq6JwC&printsec=frontcover&img=1&zoom=1&source=gbs_api   \n",
       "4                                                                                                              NaN   \n",
       "5  http://books.google.com/books/content?id=kVqRaiPlx88C&printsec=frontcover&img=1&zoom=1&edge=curl&source=gbs_api   \n",
       "6                                                                                                              NaN   \n",
       "7                                                                                                              NaN   \n",
       "8            http://books.google.com/books/content?id=lmLqAAAACAAJ&printsec=frontcover&img=1&zoom=1&source=gbs_api   \n",
       "9                                                                                                              NaN   \n",
       "\n",
       "                                                                                                                                           previewLink   \n",
       "0                                               http://books.google.nl/books?id=DykPAAAACAAJ&dq=Its+Only+Art+If+Its+Well+Hung!&hl=&cd=1&source=gbs_api  \\\n",
       "1                                 http://books.google.nl/books?id=IjvHQsCn_pgC&printsec=frontcover&dq=Dr.+Seuss:+American+Icon&hl=&cd=1&source=gbs_api   \n",
       "2                                        http://books.google.nl/books?id=2tsDAAAACAAJ&dq=Wonderful+Worship+in+Smaller+Churches&hl=&cd=1&source=gbs_api   \n",
       "3                                                http://books.google.nl/books?id=aRSIgJlq6JwC&dq=Whispers+of+the+Wicked+Saints&hl=&cd=1&source=gbs_api   \n",
       "4    http://books.google.nl/books?id=399SPgAACAAJ&dq=Nation+Dance:+Religion,+Identity+and+Cultural+Difference+in+the+Caribbean&hl=&cd=1&source=gbs_api   \n",
       "5  http://books.google.nl/books?id=kVqRaiPlx88C&printsec=frontcover&dq=The+Church+of+Christ:+A+Biblical+Ecclesiology+for+Today&hl=&cd=1&source=gbs_api   \n",
       "6                                                   http://books.google.nl/books?id=mHLTngEACAAJ&dq=The+Overbury+affair+(Avon)&hl=&cd=1&source=gbs_api   \n",
       "7                                      http://books.google.nl/books?id=6HDOwAEACAAJ&dq=A+Walk+in+the+Woods:+a+Play+in+Two+Acts&hl=&cd=1&source=gbs_api   \n",
       "8                                                     http://books.google.nl/books?id=lmLqAAAACAAJ&dq=Saint+Hyacinth+of+Poland&hl=&cd=1&source=gbs_api   \n",
       "9                    http://books.google.nl/books?id=rbLZugEACAAJ&dq=Rising+Sons+and+Daughters:+Life+Among+Japan%27s+New+Young&hl=&cd=1&source=gbs_api   \n",
       "\n",
       "                    publisher publishedDate   \n",
       "0                         NaN          1996  \\\n",
       "1                   A&C Black    2005-01-01   \n",
       "2                         NaN          2000   \n",
       "3                   iUniverse       2005-02   \n",
       "4                         NaN    2003-03-01   \n",
       "5  Wm. B. Eerdmans Publishing          1996   \n",
       "6                         NaN          1960   \n",
       "7                         NaN          1988   \n",
       "8             Tan Books & Pub    2009-01-01   \n",
       "9          Plympton PressIntl          1995   \n",
       "\n",
       "                                                                                                                                       infoLink   \n",
       "0                                             http://books.google.nl/books?id=DykPAAAACAAJ&dq=Its+Only+Art+If+Its+Well+Hung!&hl=&source=gbs_api  \\\n",
       "1                                                   http://books.google.nl/books?id=IjvHQsCn_pgC&dq=Dr.+Seuss:+American+Icon&hl=&source=gbs_api   \n",
       "2                                      http://books.google.nl/books?id=2tsDAAAACAAJ&dq=Wonderful+Worship+in+Smaller+Churches&hl=&source=gbs_api   \n",
       "3                                              http://books.google.nl/books?id=aRSIgJlq6JwC&dq=Whispers+of+the+Wicked+Saints&hl=&source=gbs_api   \n",
       "4  http://books.google.nl/books?id=399SPgAACAAJ&dq=Nation+Dance:+Religion,+Identity+and+Cultural+Difference+in+the+Caribbean&hl=&source=gbs_api   \n",
       "5                    http://books.google.nl/books?id=kVqRaiPlx88C&dq=The+Church+of+Christ:+A+Biblical+Ecclesiology+for+Today&hl=&source=gbs_api   \n",
       "6                                                 http://books.google.nl/books?id=mHLTngEACAAJ&dq=The+Overbury+affair+(Avon)&hl=&source=gbs_api   \n",
       "7                                    http://books.google.nl/books?id=6HDOwAEACAAJ&dq=A+Walk+in+the+Woods:+a+Play+in+Two+Acts&hl=&source=gbs_api   \n",
       "8                                                   http://books.google.nl/books?id=lmLqAAAACAAJ&dq=Saint+Hyacinth+of+Poland&hl=&source=gbs_api   \n",
       "9                  http://books.google.nl/books?id=rbLZugEACAAJ&dq=Rising+Sons+and+Daughters:+Life+Among+Japan%27s+New+Young&hl=&source=gbs_api   \n",
       "\n",
       "                      categories  ratingsCount  \n",
       "0    ['Comics & Graphic Novels']           NaN  \n",
       "1  ['Biography & Autobiography']           NaN  \n",
       "2                   ['Religion']           NaN  \n",
       "3                    ['Fiction']           NaN  \n",
       "4                            NaN           NaN  \n",
       "5                   ['Religion']           5.0  \n",
       "6                            NaN           NaN  \n",
       "7                            NaN           3.0  \n",
       "8  ['Biography & Autobiography']           NaN  \n",
       "9             ['Social Science']           NaN  "
      ]
     },
     "execution_count": 6,
     "metadata": {},
     "output_type": "execute_result"
    }
   ],
   "source": []
  },
  {
   "cell_type": "code",
   "execution_count": 13,
   "metadata": {},
   "outputs": [
    {
     "data": {
      "text/html": [
       "<div>\n",
       "<style scoped>\n",
       "    .dataframe tbody tr th:only-of-type {\n",
       "        vertical-align: middle;\n",
       "    }\n",
       "\n",
       "    .dataframe tbody tr th {\n",
       "        vertical-align: top;\n",
       "    }\n",
       "\n",
       "    .dataframe thead th {\n",
       "        text-align: right;\n",
       "    }\n",
       "</style>\n",
       "<table border=\"1\" class=\"dataframe\">\n",
       "  <thead>\n",
       "    <tr style=\"text-align: right;\">\n",
       "      <th></th>\n",
       "    </tr>\n",
       "  </thead>\n",
       "  <tbody>\n",
       "  </tbody>\n",
       "</table>\n",
       "</div>"
      ],
      "text/plain": [
       "Empty DataFrame\n",
       "Columns: []\n",
       "Index: []"
      ]
     },
     "execution_count": 13,
     "metadata": {},
     "output_type": "execute_result"
    }
   ],
   "source": [
    "df.head(10)"
   ]
  },
  {
   "cell_type": "code",
   "execution_count": 12,
   "metadata": {},
   "outputs": [
    {
     "data": {
      "text/html": [
       "<div>\n",
       "<style scoped>\n",
       "    .dataframe tbody tr th:only-of-type {\n",
       "        vertical-align: middle;\n",
       "    }\n",
       "\n",
       "    .dataframe tbody tr th {\n",
       "        vertical-align: top;\n",
       "    }\n",
       "\n",
       "    .dataframe thead th {\n",
       "        text-align: right;\n",
       "    }\n",
       "</style>\n",
       "<table border=\"1\" class=\"dataframe\">\n",
       "  <thead>\n",
       "    <tr style=\"text-align: right;\">\n",
       "      <th></th>\n",
       "    </tr>\n",
       "  </thead>\n",
       "  <tbody>\n",
       "  </tbody>\n",
       "</table>\n",
       "</div>"
      ],
      "text/plain": [
       "Empty DataFrame\n",
       "Columns: []\n",
       "Index: []"
      ]
     },
     "execution_count": 12,
     "metadata": {},
     "output_type": "execute_result"
    }
   ],
   "source": [
    "df.head(10)"
   ]
  }
 ],
 "metadata": {
  "kernelspec": {
   "display_name": "bigdata-env",
   "language": "python",
   "name": "python3"
  },
  "language_info": {
   "codemirror_mode": {
    "name": "ipython",
    "version": 3
   },
   "file_extension": ".py",
   "mimetype": "text/x-python",
   "name": "python",
   "nbconvert_exporter": "python",
   "pygments_lexer": "ipython3",
   "version": "3.11.3"
  },
  "orig_nbformat": 4
 },
 "nbformat": 4,
 "nbformat_minor": 2
}
