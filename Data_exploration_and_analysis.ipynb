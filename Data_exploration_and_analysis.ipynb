{
 "cells": [
  {
   "cell_type": "code",
   "execution_count": null,
   "metadata": {},
   "outputs": [],
   "source": [
    "import pandas as pd\n",
    "from global_variables import CSV_BOOK_DATA_PATH\n",
    "from global_variables import CSV_BOOK_RATING_PATH\n",
    "from global_variables import CSV_BOOK_DATA_CLEANED_PATH\n",
    "from global_variables import CSV_BOOK_RATING_CLEANED_PATH\n",
    "from global_variables import PERCENT"
   ]
  }
 ],
 "metadata": {
  "kernelspec": {
   "display_name": "BigData",
   "language": "python",
   "name": "python3"
  },
  "language_info": {
   "name": "python",
   "version": "3.10.11"
  },
  "orig_nbformat": 4
 },
 "nbformat": 4,
 "nbformat_minor": 2
}
